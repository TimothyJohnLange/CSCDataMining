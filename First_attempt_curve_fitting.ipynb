{
 "metadata": {
  "name": ""
 },
 "nbformat": 3,
 "nbformat_minor": 0,
 "worksheets": [
  {
   "cells": [
    {
     "cell_type": "code",
     "collapsed": false,
     "input": [
      "import pandas as pd\n",
      "%pylab inline"
     ],
     "language": "python",
     "metadata": {},
     "outputs": [
      {
       "output_type": "stream",
       "stream": "stdout",
       "text": [
        "Populating the interactive namespace from numpy and matplotlib\n"
       ]
      }
     ],
     "prompt_number": 202
    },
    {
     "cell_type": "code",
     "collapsed": false,
     "input": [
      "data = pd.read_table('03_PHR_Alcamizer.txt', skiprows = 4, sep = ';', usecols = range(6))"
     ],
     "language": "python",
     "metadata": {},
     "outputs": [],
     "prompt_number": 203
    },
    {
     "cell_type": "code",
     "collapsed": false,
     "input": [
      "print data[:10]"
     ],
     "language": "python",
     "metadata": {},
     "outputs": [
      {
       "output_type": "stream",
       "stream": "stdout",
       "text": [
        "  Nr-Seg   t [min]  n [1/min]  M [Nm]  TM [\ufffdC]  E [kJ]\n",
        "0    1|1  0.004417      49.91       0    200.2       0\n",
        "1    1|2  0.021080      49.97       0    200.2       0\n",
        "2    1|3  0.037750      49.97       0    200.2       0\n",
        "3    1|4  0.054420      49.97       0    200.2       0\n",
        "4    1|5  0.071080      49.97       0    200.2       0\n",
        "5    1|6  0.087750      49.97       0    200.2       0\n",
        "6    1|7  0.104000      49.97       0    199.6       0\n",
        "7    1|8  0.121000      49.97       0    198.7       0\n",
        "8    1|9  0.138000      49.97       0    195.2       0\n",
        "9   1|10  0.154000      49.97       0    191.5       0\n",
        "\n",
        "[10 rows x 6 columns]\n"
       ]
      }
     ],
     "prompt_number": 204
    },
    {
     "cell_type": "code",
     "collapsed": false,
     "input": [
      "time = data['t [min]']\n",
      "temp = data[data.columns[4]]\n",
      "torque = data['M [Nm]']"
     ],
     "language": "python",
     "metadata": {},
     "outputs": [],
     "prompt_number": 205
    },
    {
     "cell_type": "code",
     "collapsed": false,
     "input": [
      "timeV = time.values\n",
      "tempV = temp.values\n",
      "torqueV = torque.values"
     ],
     "language": "python",
     "metadata": {},
     "outputs": [],
     "prompt_number": 206
    },
    {
     "cell_type": "code",
     "collapsed": false,
     "input": [
      "torque_curve1 = zeros(len(timeV))\n",
      "torque_curve1[16] = torqueV[16]\n",
      "torque_curve2 = zeros(len(timeV))\n",
      "torque_curve2[16] = torqueV[16]\n",
      "torque_curve_all = zeros(len(timeV))\n",
      "torque_curve_all[16] = torqueV[16]"
     ],
     "language": "python",
     "metadata": {},
     "outputs": [],
     "prompt_number": 207
    },
    {
     "cell_type": "code",
     "collapsed": false,
     "input": [
      "HCl = zeros(len(timeV))\n",
      "HCl[16] = 0.01\n",
      "LDH = zeros(len(timeV))\n",
      "LDH[16] = 0.3*10 #different for each run, possible basis for first model\n",
      "polymer = zeros(len(timeV))\n",
      "polymer[16] = 2\n",
      "radical = zeros(len(timeV))\n",
      "primary = zeros(len(timeV))\n",
      "primary[16] = 0.3\n",
      "torque_curve3 = zeros(len(timeV))\n",
      "torque_curve3[16] = torqueV[16]"
     ],
     "language": "python",
     "metadata": {},
     "outputs": [],
     "prompt_number": 317
    },
    {
     "cell_type": "code",
     "collapsed": false,
     "input": [
      "k1 = 68. # temp - visc constant\n",
      "k2 = 1. # gelling of PVC powder\n",
      "k3 = 0.3 # HCl being absorbed by LDH\n",
      "n = 2 # number of HCl per LDH\n",
      "k4 = 2. # HCl in autocatalytic reaction with PVC\n",
      "k5 = 1. # primary stabiliser reacting with radicals\n",
      "k6 = 1. # radical forming polyene sequnces ie degrading\n",
      "k7 = 1000. # degredation proportionality constant to torque"
     ],
     "language": "python",
     "metadata": {},
     "outputs": [],
     "prompt_number": 326
    },
    {
     "cell_type": "code",
     "collapsed": false,
     "input": [
      "for i in range(17,len(timeV)):\n",
      "    torque_curve1[i] = torque_curve1[i - 1] + (timeV[i] - timeV[i - 1])*(-k1*(tempV[i] - tempV[i - 1]))\n",
      "    torque_curve2[i] = torque_curve2[i - 1] + (timeV[i] - timeV[i - 1])*(-k2*torque_curve2[i - 1])\n",
      "    HCl[i] = HCl[i - 1] + (timeV[i] - timeV[i - 1])*(-k3*HCl[i - 1]*((LDH[i - 1])**n) + k4*HCl[i - 1]*polymer[i - 1])\n",
      "    polymer[i] = polymer[i - 1] + (timeV[i] - timeV[i - 1])*(-k4*HCl[i - 1]*polymer[i - 1])\n",
      "    LDH[i] = LDH[i - 1] + (timeV[i] - timeV[i - 1])*(-k3*HCl[i - 1]*((LDH[i - 1])**n))\n",
      "    radical[i] = radical[i - 1] + (timeV[i] - timeV[i - 1])*(k4*HCl[i - 1]*polymer[i - 1] - k5*radical[i - 1]*primary[i - 1] - k6*radical[i - 1])\n",
      "    primary[i] = primary[i - 1] + (timeV[i] - timeV[i - 1])*(-k5*radical[i - 1]*primary[i - 1])\n",
      "    torque_curve3[i] = torque_curve3[i - 1] + (timeV[i] - timeV[i - 1])*(k7*k6*radical[i - 1]) \n",
      "    torque_curve_all[i] = torque_curve_all[i - 1] + (timeV[i] - timeV[i - 1])*((-k2*torque_curve_all[i - 1])+(-k1*(tempV[i] - tempV[i - 1])))"
     ],
     "language": "python",
     "metadata": {},
     "outputs": [],
     "prompt_number": 327
    },
    {
     "cell_type": "code",
     "collapsed": false,
     "input": [
      "print HCl"
     ],
     "language": "python",
     "metadata": {},
     "outputs": [
      {
       "output_type": "stream",
       "stream": "stdout",
       "text": [
        "[ 0.          0.          0.         ...,  0.00495827  0.00493254\n",
        "  0.00491974]\n"
       ]
      }
     ],
     "prompt_number": 328
    },
    {
     "cell_type": "code",
     "collapsed": false,
     "input": [
      "#pData = plot(time,torque)\n",
      "#p1 = plot(timeV,torque_curve1)\n",
      "#p2 = plot(timeV,torque_curve2)\n",
      "pHCl = plot(timeV,HCl)\n",
      "#pLDH = plot(timeV,LDH)\n",
      "#p_radical = plot(timeV,radical)\n",
      "#p_primary = plot(timeV,primary)\n",
      "#p3 = plot(timeV,torque_curve3)\n",
      "#pAll = plot(timeV,torque_curve_all)\n",
      "xlim([0.3,20])\n"
     ],
     "language": "python",
     "metadata": {},
     "outputs": [
      {
       "metadata": {},
       "output_type": "pyout",
       "prompt_number": 329,
       "text": [
        "(0.3, 20)"
       ]
      },
      {
       "metadata": {},
       "output_type": "display_data",
       "png": "[encoded data removed]",
       "text": [
        "<matplotlib.figure.Figure at 0xce40cc0>"
       ]
      }
     ],
     "prompt_number": 329
    },
    {
     "cell_type": "code",
     "collapsed": false,
     "input": [
      "pLDH = plot(timeV,LDH)\n",
      "xlim([0.3,20])"
     ],
     "language": "python",
     "metadata": {},
     "outputs": [
      {
       "metadata": {},
       "output_type": "pyout",
       "prompt_number": 330,
       "text": [
        "(0.3, 20)"
       ]
      },
      {
       "metadata": {},
       "output_type": "display_data",
       "png": "[encoded data removed]",
       "text": [
        "<matplotlib.figure.Figure at 0xce39400>"
       ]
      }
     ],
     "prompt_number": 330
    },
    {
     "cell_type": "code",
     "collapsed": false,
     "input": [],
     "language": "python",
     "metadata": {},
     "outputs": []
    }
   ],
   "metadata": {}
  }
 ]
}