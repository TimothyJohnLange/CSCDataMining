{
 "metadata": {
  "name": ""
 },
 "nbformat": 3,
 "nbformat_minor": 0,
 "worksheets": [
  {
   "cells": [
    {
     "cell_type": "code",
     "collapsed": false,
     "input": [
      "import pandas as pd\n",
      "%pylab inline"
     ],
     "language": "python",
     "metadata": {},
     "outputs": [
      {
       "output_type": "stream",
       "stream": "stdout",
       "text": [
        "Populating the interactive namespace from numpy and matplotlib\n"
       ]
      }
     ],
     "prompt_number": 91
    },
    {
     "cell_type": "code",
     "collapsed": false,
     "input": [
      "data = pd.read_table('03_PHR_Alcamizer.txt', skiprows = 4, sep = ';', usecols = range(6))"
     ],
     "language": "python",
     "metadata": {},
     "outputs": [],
     "prompt_number": 92
    },
    {
     "cell_type": "code",
     "collapsed": false,
     "input": [
      "print data[:10]"
     ],
     "language": "python",
     "metadata": {},
     "outputs": [
      {
       "output_type": "stream",
       "stream": "stdout",
       "text": [
        "  Nr-Seg   t [min]  n [1/min]  M [Nm]  TM [\ufffdC]  E [kJ]\n",
        "0    1|1  0.004417      49.91       0    200.2       0\n",
        "1    1|2  0.021080      49.97       0    200.2       0\n",
        "2    1|3  0.037750      49.97       0    200.2       0\n",
        "3    1|4  0.054420      49.97       0    200.2       0\n",
        "4    1|5  0.071080      49.97       0    200.2       0\n",
        "5    1|6  0.087750      49.97       0    200.2       0\n",
        "6    1|7  0.104000      49.97       0    199.6       0\n",
        "7    1|8  0.121000      49.97       0    198.7       0\n",
        "8    1|9  0.138000      49.97       0    195.2       0\n",
        "9   1|10  0.154000      49.97       0    191.5       0\n",
        "\n",
        "[10 rows x 6 columns]\n"
       ]
      }
     ],
     "prompt_number": 131
    },
    {
     "cell_type": "code",
     "collapsed": false,
     "input": [
      "time = data['t [min]']\n",
      "temp = data[data.columns[4]]\n",
      "torque = data['M [Nm]']"
     ],
     "language": "python",
     "metadata": {},
     "outputs": [],
     "prompt_number": 94
    },
    {
     "cell_type": "code",
     "collapsed": false,
     "input": [
      "print torque[:5]"
     ],
     "language": "python",
     "metadata": {},
     "outputs": [
      {
       "output_type": "stream",
       "stream": "stdout",
       "text": [
        "0    0\n",
        "1    0\n",
        "2    0\n",
        "3    0\n",
        "4    0\n",
        "Name: M [Nm], dtype: float64\n"
       ]
      }
     ],
     "prompt_number": 95
    },
    {
     "cell_type": "code",
     "collapsed": false,
     "input": [
      "timeV = time.values\n",
      "tempV = temp.values\n",
      "torqueV = torque.values"
     ],
     "language": "python",
     "metadata": {},
     "outputs": [],
     "prompt_number": 76
    },
    {
     "cell_type": "code",
     "collapsed": false,
     "input": [
      "k1 = 68 # temp - visc constant\n",
      "k2 = 1 # gelling"
     ],
     "language": "python",
     "metadata": {},
     "outputs": [],
     "prompt_number": 144
    },
    {
     "cell_type": "code",
     "collapsed": false,
     "input": [
      "torque_curve1 = zeros(len(timeV))\n",
      "torque_curve1[16] = torqueV[16]\n",
      "torque_curve2 = zeros(len(timeV))\n",
      "torque_curve2[16] = torqueV[16]\n",
      "print torque_curve1[16]"
     ],
     "language": "python",
     "metadata": {},
     "outputs": [
      {
       "output_type": "stream",
       "stream": "stdout",
       "text": [
        "29.3\n"
       ]
      }
     ],
     "prompt_number": 145
    },
    {
     "cell_type": "code",
     "collapsed": false,
     "input": [
      "for i in range(17,len(timeV)):\n",
      "    #print torque_curve1[i - 1]\n",
      "    #print timeV[i] - timeV[i - 1]\n",
      "    #print (-k0*exp(b/(tempV[i - 1])))\n",
      "    #torque_curve1[i] = torque_curve1[i - 1] + (timeV[i] - timeV[i - 1])*(-k0*exp(b/(tempV[i - 1])))\n",
      "    torque_curve1[i] = torque_curve1[i - 1] + (timeV[i] - timeV[i - 1])*(-k1*(tempV[i] - tempV[i - 1]))\n",
      "    torque_curve2[i] = torque_curve2[i - 1] + (timeV[i] - timeV[i - 1])*(-k2*torque_curve2[i - 1])\n",
      "    #print torque_curve1[i]\n",
      "    #print '_______________'"
     ],
     "language": "python",
     "metadata": {},
     "outputs": [],
     "prompt_number": 147
    },
    {
     "cell_type": "code",
     "collapsed": false,
     "input": [
      "plot(timeV,torque_curve2,timeV,torque_curve1,time,torque)\n",
      "xlim([0.3,20])"
     ],
     "language": "python",
     "metadata": {},
     "outputs": [
      {
       "metadata": {},
       "output_type": "pyout",
       "prompt_number": 150,
       "text": [
        "(0.3, 20)"
       ]
      },
      {
       "metadata": {},
       "output_type": "display_data",
       "png": "[encoded data removed]",
       "text": [
        "<matplotlib.figure.Figure at 0xc09a240>"
       ]
      }
     ],
     "prompt_number": 150
    },
    {
     "cell_type": "code",
     "collapsed": false,
     "input": [],
     "language": "python",
     "metadata": {},
     "outputs": [],
     "prompt_number": 130
    },
    {
     "cell_type": "code",
     "collapsed": false,
     "input": [],
     "language": "python",
     "metadata": {},
     "outputs": []
    }
   ],
   "metadata": {}
  }
 ]
}