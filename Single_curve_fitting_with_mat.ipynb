{
 "metadata": {
  "name": ""
 },
 "nbformat": 3,
 "nbformat_minor": 0,
 "worksheets": [
  {
   "cells": [
    {
     "cell_type": "markdown",
     "metadata": {},
     "source": [
      "## Single Curve Fitting: PVC stabilisation of LDH\n",
      "#### With expressing dCdt as matrix"
     ]
    },
    {
     "cell_type": "code",
     "collapsed": false,
     "input": [
      "import pandas as pd\n",
      "%pylab inline\n",
      "from scipy.integrate import odeint"
     ],
     "language": "python",
     "metadata": {},
     "outputs": [
      {
       "output_type": "stream",
       "stream": "stdout",
       "text": [
        "Populating the interactive namespace from numpy and matplotlib\n"
       ]
      }
     ],
     "prompt_number": 35
    },
    {
     "cell_type": "code",
     "collapsed": false,
     "input": [
      "data = pd.read_table('03_PHR_Alcamizer.txt', skiprows = 4, sep = ';', usecols = range(6))"
     ],
     "language": "python",
     "metadata": {},
     "outputs": [],
     "prompt_number": 36
    },
    {
     "cell_type": "code",
     "collapsed": false,
     "input": [
      "time_data = data['t [min]'].values\n",
      "temp_data = data[data.columns[4]].values\n",
      "torque_data = data['M [Nm]'].values"
     ],
     "language": "python",
     "metadata": {},
     "outputs": [],
     "prompt_number": 37
    },
    {
     "cell_type": "markdown",
     "metadata": {},
     "source": [
      "#### Parameters\n",
      "Temperature viscosity curve parameters"
     ]
    },
    {
     "cell_type": "code",
     "collapsed": false,
     "input": [
      "R = 8.314 \n",
      "Cp = 900.\n",
      "m = 0.5\n",
      "T_inf = 208.\n",
      "UA = 340.\n",
      "k1 = 2.\n",
      "mu0 = 0.03\n",
      "E = 6500.\n",
      "T0 = 125.\n",
      "k2 = 5."
     ],
     "language": "python",
     "metadata": {},
     "outputs": [],
     "prompt_number": 38
    },
    {
     "cell_type": "markdown",
     "metadata": {},
     "source": [
      "Reaction kinetics parameters"
     ]
    },
    {
     "cell_type": "code",
     "collapsed": false,
     "input": [
      "n = 10.\n",
      "k3 = 0.35\n",
      "k4 = 0.3\n",
      "k5 = 0.001\n",
      "k6 = 1.\n",
      "k7 = 0.1\n",
      "k8 = 0.\n",
      "HCl_0 = 0.\n",
      "LDH_0 = 0.3\n",
      "poly_act_0 = 5.\n",
      "prim_stab_0 = 0.5"
     ],
     "language": "python",
     "metadata": {},
     "outputs": [],
     "prompt_number": 112
    },
    {
     "cell_type": "markdown",
     "metadata": {},
     "source": [
      "#### Chemical Equations\n",
      "1. nHCl + LDH -> nHCl.LDH  (LDH scavenging HCl, LDH is a secondary stabiliser)\n",
      "2. HCl + polymer active sites -> 2HCl + radical\n",
      "3. polymer active sites -> HCl + radical (new reaction)\n",
      "4. radical + primary stabiliser -> radical.primary stabiliser  (primary stabilisation)\n",
      "5. radical -> degraded polymer\n",
      "6. 2 radical -> cross link"
     ]
    },
    {
     "cell_type": "markdown",
     "metadata": {},
     "source": [
      "Stoichiometric Matrix"
     ]
    },
    {
     "cell_type": "code",
     "collapsed": false,
     "input": [
      "stoyk  = array([[-n, -1., 0., 0., 0., 0., 0.],\n",
      "                [1., 0., -1., 1., 0., 0., 0.],\n",
      "                [1., 0., -1., 1., 0., 0., 0.],\n",
      "                [0., 0., 0., -1., -1., 0., 0.],\n",
      "                [0., 0., 0., -1., 0., 1., 0.],\n",
      "                [0., 0., 0., -2., 0., 0., 1.]])"
     ],
     "language": "python",
     "metadata": {},
     "outputs": [],
     "prompt_number": 113
    },
    {
     "cell_type": "markdown",
     "metadata": {},
     "source": [
      "#### Rates of chemical reactions"
     ]
    },
    {
     "cell_type": "code",
     "collapsed": false,
     "input": [
      "def r1(k3, HCl, LDH):\n",
      "    return k3*HCl*LDH\n",
      "\n",
      "def r2(k4, HCl, poly_act):\n",
      "    return k4*HCl*poly_act\n",
      "\n",
      "def r3(k5, poly_act):\n",
      "    return k5*poly_act\n",
      "\n",
      "def r4(k6, radical, prim_stab):\n",
      "    return k6*radical*prim_stab\n",
      "\n",
      "def r5(k7, radical):\n",
      "    return k7*radical\n",
      "\n",
      "def r6(k8, radical):\n",
      "    return k8*(radical**2)"
     ],
     "language": "python",
     "metadata": {},
     "outputs": [],
     "prompt_number": 114
    },
    {
     "cell_type": "markdown",
     "metadata": {},
     "source": [
      "#### Solving Differential Equations\n",
      "Differential equations are expressed as the dot product of the transpose of the stoichiometric matrix and the rate vector"
     ]
    },
    {
     "cell_type": "code",
     "collapsed": false,
     "input": [
      "def dCdt(A, time):\n",
      "    HCl = A[0]\n",
      "    LDH = A[1]\n",
      "    poly_act = A[2]\n",
      "    radical = A[3]\n",
      "    prim_stab = A[4]\n",
      "    deg_poly = A[5]\n",
      "    x_link = A[6]\n",
      "    r = array([r1(k3, HCl, LDH),\n",
      "               r2(k4, HCl, poly_act),\n",
      "               r3(k5, poly_act),\n",
      "               r4(k6, radical, prim_stab),\n",
      "               r5(k7, radical),\n",
      "               r6(k8, radical)])\n",
      "    return squeeze(stoyk.T.dot(r))  # need to squeeze here to get a 1-D array for the solver"
     ],
     "language": "python",
     "metadata": {},
     "outputs": [],
     "prompt_number": 115
    },
    {
     "cell_type": "code",
     "collapsed": false,
     "input": [
      "time = linspace(0, time_data[len(time_data) - 1], 100)"
     ],
     "language": "python",
     "metadata": {},
     "outputs": [],
     "prompt_number": 116
    },
    {
     "cell_type": "markdown",
     "metadata": {},
     "source": [
      "Initial Conditions"
     ]
    },
    {
     "cell_type": "code",
     "collapsed": false,
     "input": [
      "A_0 = array([HCl_0,\n",
      "             LDH_0,\n",
      "             poly_act_0,\n",
      "             0.,\n",
      "             prim_stab_0,\n",
      "             0.,\n",
      "             0.])"
     ],
     "language": "python",
     "metadata": {},
     "outputs": [],
     "prompt_number": 117
    },
    {
     "cell_type": "code",
     "collapsed": false,
     "input": [
      "soln = odeint(dCdt, A_0, time)"
     ],
     "language": "python",
     "metadata": {},
     "outputs": [],
     "prompt_number": 118
    },
    {
     "cell_type": "code",
     "collapsed": false,
     "input": [
      "HCl = soln[:, 0]\n",
      "LDH = soln[:, 1]\n",
      "poly_act = soln[:, 2]\n",
      "radical = soln[:, 3]\n",
      "prim_stab = soln[:, 4]\n",
      "deg_poly = soln[:, 5]\n",
      "x_link = soln[:, 6]"
     ],
     "language": "python",
     "metadata": {},
     "outputs": [],
     "prompt_number": 119
    },
    {
     "cell_type": "code",
     "collapsed": false,
     "input": [
      "plot(time, HCl, '--',#label='HCl',\n",
      "     time, LDH, \n",
      "     time, poly_act, '-.',\n",
      "     time, radical, ':',\n",
      "     time, prim_stab, '--',\n",
      "     time, deg_poly,\n",
      "     time, x_link)"
     ],
     "language": "python",
     "metadata": {},
     "outputs": [
      {
       "metadata": {},
       "output_type": "pyout",
       "prompt_number": 121,
       "text": [
        "[<matplotlib.lines.Line2D at 0x10e6b710>,\n",
        " <matplotlib.lines.Line2D at 0x10e6b940>,\n",
        " <matplotlib.lines.Line2D at 0x10e6bf28>,\n",
        " <matplotlib.lines.Line2D at 0x10e6f4e0>,\n",
        " <matplotlib.lines.Line2D at 0x10e6fa58>,\n",
        " <matplotlib.lines.Line2D at 0x10e6ffd0>,\n",
        " <matplotlib.lines.Line2D at 0x10e72588>]"
       ]
      },
      {
       "metadata": {},
       "output_type": "display_data",
       "png": "[encoded data removed]",
       "text": [
        "<matplotlib.figure.Figure at 0x10b94940>"
       ]
      }
     ],
     "prompt_number": 121
    },
    {
     "cell_type": "code",
     "collapsed": false,
     "input": [],
     "language": "python",
     "metadata": {},
     "outputs": [],
     "prompt_number": 120
    },
    {
     "cell_type": "code",
     "collapsed": false,
     "input": [],
     "language": "python",
     "metadata": {},
     "outputs": []
    }
   ],
   "metadata": {}
  }
 ]
}