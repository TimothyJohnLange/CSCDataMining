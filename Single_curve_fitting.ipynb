{
 "metadata": {
  "name": ""
 },
 "nbformat": 3,
 "nbformat_minor": 0,
 "worksheets": [
  {
   "cells": [
    {
     "cell_type": "code",
     "collapsed": false,
     "input": [
      "import pandas as pd\n",
      "%pylab inline"
     ],
     "language": "python",
     "metadata": {},
     "outputs": [
      {
       "output_type": "stream",
       "stream": "stdout",
       "text": [
        "Populating the interactive namespace from numpy and matplotlib\n"
       ]
      }
     ],
     "prompt_number": 1
    },
    {
     "cell_type": "code",
     "collapsed": false,
     "input": [
      "data = pd.read_table('03_PHR_Alcamizer.txt', skiprows = 4, sep = ';', usecols = range(6))"
     ],
     "language": "python",
     "metadata": {},
     "outputs": [],
     "prompt_number": 2
    },
    {
     "cell_type": "code",
     "collapsed": false,
     "input": [
      "print data[:1]"
     ],
     "language": "python",
     "metadata": {},
     "outputs": [
      {
       "output_type": "stream",
       "stream": "stdout",
       "text": [
        "  Nr-Seg   t [min]  n [1/min]  M [Nm]  TM [\ufffdC]  E [kJ]\n",
        "0    1|1  0.004417      49.91       0    200.2       0\n",
        "\n",
        "[1 rows x 6 columns]\n"
       ]
      }
     ],
     "prompt_number": 3
    },
    {
     "cell_type": "code",
     "collapsed": false,
     "input": [
      "time_data = data['t [min]'].values\n",
      "temp_data = data[data.columns[4]].values\n",
      "torque_data = data['M [Nm]'].values"
     ],
     "language": "python",
     "metadata": {},
     "outputs": [],
     "prompt_number": 4
    },
    {
     "cell_type": "code",
     "collapsed": false,
     "input": [
      "R = 8.314 \n",
      "Cp = 900\n",
      "m = 0.5\n",
      "T_inf = 208\n",
      "UA = 340\n",
      "k1 = 2\n",
      "mu0 = 0.03\n",
      "E = 6500\n",
      "T0 = 125\n",
      "k2 = 5"
     ],
     "language": "python",
     "metadata": {},
     "outputs": [],
     "prompt_number": 111
    },
    {
     "cell_type": "code",
     "collapsed": false,
     "input": [
      "from temp_der import *"
     ],
     "language": "python",
     "metadata": {},
     "outputs": [],
     "prompt_number": 112
    },
    {
     "cell_type": "code",
     "collapsed": false,
     "input": [
      "time = linspace(0,time_data[len(time_data) - 1],1000)"
     ],
     "language": "python",
     "metadata": {},
     "outputs": [],
     "prompt_number": 113
    },
    {
     "cell_type": "code",
     "collapsed": false,
     "input": [
      "T = zeros(len(time))\n",
      "T[0] = T0\n",
      "Tm = zeros(len(time))\n",
      "Tm[0] = 200\n",
      "muV = zeros(len(time))\n",
      "muV[0] = mu(mu0,E,R,T0)\n",
      "torqueV = zeros(len(time))\n",
      "torqueV[0] = torque(k1,muV[0])"
     ],
     "language": "python",
     "metadata": {},
     "outputs": [],
     "prompt_number": 114
    },
    {
     "cell_type": "code",
     "collapsed": false,
     "input": [
      "for i in range(1,len(time)):\n",
      "    j = i - 1\n",
      "    dt = time[i] - time[j]\n",
      "    T[i] = T[j] + dt*der_T(m,Cp,UA,T_inf,T[j])\n",
      "    Tm[i] = Tm[j] + dt*der_Tm(k2,T[j],Tm[j])\n",
      "    muV[i] = mu(mu0,E,R,T[i])\n",
      "    torqueV[i] = torque(k1,muV[i])"
     ],
     "language": "python",
     "metadata": {},
     "outputs": [],
     "prompt_number": 115
    },
    {
     "cell_type": "code",
     "collapsed": false,
     "input": [
      "plot(time,muV,time,torqueV,time_data,torque_data)"
     ],
     "language": "python",
     "metadata": {},
     "outputs": [
      {
       "metadata": {},
       "output_type": "pyout",
       "prompt_number": 116,
       "text": [
        "[<matplotlib.lines.Line2D at 0x106d7400>,\n",
        " <matplotlib.lines.Line2D at 0x106d7630>,\n",
        " <matplotlib.lines.Line2D at 0x106d7c18>]"
       ]
      },
      {
       "metadata": {},
       "output_type": "display_data",
       "png": "[encoded data removed]",
       "text": [
        "<matplotlib.figure.Figure at 0x104310b8>"
       ]
      }
     ],
     "prompt_number": 116
    },
    {
     "cell_type": "code",
     "collapsed": false,
     "input": [
      "plot(time,Tm,time_data,temp_data)"
     ],
     "language": "python",
     "metadata": {},
     "outputs": [
      {
       "metadata": {},
       "output_type": "pyout",
       "prompt_number": 61,
       "text": [
        "[<matplotlib.lines.Line2D at 0xe1dbd68>,\n",
        " <matplotlib.lines.Line2D at 0xe1dbf98>]"
       ]
      },
      {
       "metadata": {},
       "output_type": "display_data",
       "png": "[encoded data removed]",
       "text": [
        "<matplotlib.figure.Figure at 0xdc6c780>"
       ]
      }
     ],
     "prompt_number": 61
    },
    {
     "cell_type": "code",
     "collapsed": false,
     "input": [],
     "language": "python",
     "metadata": {},
     "outputs": []
    }
   ],
   "metadata": {}
  }
 ]
}