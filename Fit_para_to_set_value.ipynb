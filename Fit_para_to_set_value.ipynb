{
 "metadata": {
  "name": ""
 },
 "nbformat": 3,
 "nbformat_minor": 0,
 "worksheets": [
  {
   "cells": [
    {
     "cell_type": "markdown",
     "metadata": {},
     "source": [
      "## Looping over data files and fitting parameters to parts of curves to find set values"
     ]
    },
    {
     "cell_type": "code",
     "collapsed": false,
     "input": [
      "from datahandling import DataFile, alldatafiles, half_cuts, trim\n",
      "from lmfit import minimize, report_fit\n",
      "from model_parameters import parameters_for_temp, parameter_vectors\n",
      "from curve_func_2 import temp_curve, fcn2min_torque, model_curves\n",
      "from time import time as tm\n",
      "% pylab inline"
     ],
     "language": "python",
     "metadata": {},
     "outputs": [
      {
       "output_type": "stream",
       "stream": "stdout",
       "text": [
        "Populating the interactive namespace from numpy and matplotlib\n"
       ]
      }
     ],
     "prompt_number": 1
    },
    {
     "cell_type": "markdown",
     "metadata": {},
     "source": [
      "####Loading all files"
     ]
    },
    {
     "cell_type": "code",
     "collapsed": false,
     "input": [
      "files = alldatafiles()\n",
      "no_files = len(files)"
     ],
     "language": "python",
     "metadata": {},
     "outputs": [],
     "prompt_number": 2
    },
    {
     "cell_type": "markdown",
     "metadata": {},
     "source": [
      "####Looping over files"
     ]
    },
    {
     "cell_type": "code",
     "collapsed": false,
     "input": [
      "t = tm()\n",
      "all_ps = []\n",
      "\n",
      "for i, f in enumerate(files):\n",
      "    time_data, temp_data, torque_data = DataFile(f).simple_data()\n",
      "    \n",
      "    # Trimming data\n",
      "    c = half_cuts(torque_data)\n",
      "    time_data = trim(time_data, c)\n",
      "    temp_data = trim(temp_data, c)\n",
      "    torque_data = trim(torque_data, c)\n",
      "    \n",
      "    # Initialising and limiting parameters\n",
      "    p = parameters_for_temp()\n",
      "    \n",
      "    # Fitting data\n",
      "    result = minimize(fcn2min_torque, p, args=(time_data, torque_data))\n",
      "    \n",
      "    #Storing parameter values\n",
      "    all_ps = append(all_ps, p)\n",
      "    print 'Completed Fit ',(i + 1)\n",
      "    print '__________________________'\n",
      "\n",
      "elapsed = tm() - t\n",
      "print '*******************'\n",
      "print 'elapsed time (min) =', elapsed/60."
     ],
     "language": "python",
     "metadata": {},
     "outputs": [
      {
       "output_type": "stream",
       "stream": "stdout",
       "text": [
        "Completed Fit  1\n",
        "__________________________\n",
        "Completed Fit "
       ]
      },
      {
       "output_type": "stream",
       "stream": "stdout",
       "text": [
        " 2\n",
        "__________________________\n",
        "Completed Fit "
       ]
      },
      {
       "output_type": "stream",
       "stream": "stdout",
       "text": [
        " 3\n",
        "__________________________\n",
        "Completed Fit "
       ]
      },
      {
       "output_type": "stream",
       "stream": "stdout",
       "text": [
        " 4\n",
        "__________________________\n",
        "Completed Fit "
       ]
      },
      {
       "output_type": "stream",
       "stream": "stdout",
       "text": [
        " 5\n",
        "__________________________\n",
        "Completed Fit "
       ]
      },
      {
       "output_type": "stream",
       "stream": "stdout",
       "text": [
        " 6\n",
        "__________________________\n",
        "Completed Fit "
       ]
      },
      {
       "output_type": "stream",
       "stream": "stdout",
       "text": [
        " 7\n",
        "__________________________\n",
        "Completed Fit "
       ]
      },
      {
       "output_type": "stream",
       "stream": "stdout",
       "text": [
        " 8\n",
        "__________________________\n",
        "Completed Fit "
       ]
      },
      {
       "output_type": "stream",
       "stream": "stdout",
       "text": [
        " 9\n",
        "__________________________\n",
        "Completed Fit "
       ]
      },
      {
       "output_type": "stream",
       "stream": "stdout",
       "text": [
        " 10\n",
        "__________________________\n",
        "Completed Fit "
       ]
      },
      {
       "output_type": "stream",
       "stream": "stdout",
       "text": [
        " 11\n",
        "__________________________\n",
        "Completed Fit "
       ]
      },
      {
       "output_type": "stream",
       "stream": "stdout",
       "text": [
        " 12\n",
        "__________________________\n",
        "Completed Fit "
       ]
      },
      {
       "output_type": "stream",
       "stream": "stdout",
       "text": [
        " 13\n",
        "__________________________\n",
        "Completed Fit "
       ]
      },
      {
       "output_type": "stream",
       "stream": "stdout",
       "text": [
        " 14\n",
        "__________________________\n",
        "Completed Fit "
       ]
      },
      {
       "output_type": "stream",
       "stream": "stdout",
       "text": [
        " 15\n",
        "__________________________\n",
        "Completed Fit "
       ]
      },
      {
       "output_type": "stream",
       "stream": "stdout",
       "text": [
        " 16\n",
        "__________________________\n",
        "Completed Fit "
       ]
      },
      {
       "output_type": "stream",
       "stream": "stdout",
       "text": [
        " 17\n",
        "__________________________\n",
        "Completed Fit "
       ]
      },
      {
       "output_type": "stream",
       "stream": "stdout",
       "text": [
        " 18\n",
        "__________________________\n",
        "Completed Fit "
       ]
      },
      {
       "output_type": "stream",
       "stream": "stdout",
       "text": [
        " 19\n",
        "__________________________\n",
        "Completed Fit "
       ]
      },
      {
       "output_type": "stream",
       "stream": "stdout",
       "text": [
        " 20\n",
        "__________________________\n",
        "Completed Fit "
       ]
      },
      {
       "output_type": "stream",
       "stream": "stdout",
       "text": [
        " 21\n",
        "__________________________\n",
        "Completed Fit "
       ]
      },
      {
       "output_type": "stream",
       "stream": "stdout",
       "text": [
        " 22\n",
        "__________________________\n",
        "Completed Fit "
       ]
      },
      {
       "output_type": "stream",
       "stream": "stdout",
       "text": [
        " 23\n",
        "__________________________\n",
        "Completed Fit "
       ]
      },
      {
       "output_type": "stream",
       "stream": "stdout",
       "text": [
        " 24\n",
        "__________________________\n",
        "Completed Fit "
       ]
      },
      {
       "output_type": "stream",
       "stream": "stdout",
       "text": [
        " 25\n",
        "__________________________\n",
        "Completed Fit "
       ]
      },
      {
       "output_type": "stream",
       "stream": "stdout",
       "text": [
        " 26\n",
        "__________________________\n",
        "Completed Fit "
       ]
      },
      {
       "output_type": "stream",
       "stream": "stdout",
       "text": [
        " 27\n",
        "__________________________\n",
        "Completed Fit "
       ]
      },
      {
       "output_type": "stream",
       "stream": "stdout",
       "text": [
        " 28\n",
        "__________________________\n",
        "Completed Fit "
       ]
      },
      {
       "output_type": "stream",
       "stream": "stdout",
       "text": [
        " 29\n",
        "__________________________\n",
        "Completed Fit "
       ]
      },
      {
       "output_type": "stream",
       "stream": "stdout",
       "text": [
        " 30\n",
        "__________________________\n",
        "Completed Fit "
       ]
      },
      {
       "output_type": "stream",
       "stream": "stdout",
       "text": [
        " 31\n",
        "__________________________\n",
        "Completed Fit "
       ]
      },
      {
       "output_type": "stream",
       "stream": "stdout",
       "text": [
        " 32\n",
        "__________________________\n",
        "Completed Fit "
       ]
      },
      {
       "output_type": "stream",
       "stream": "stdout",
       "text": [
        " 33\n",
        "__________________________\n",
        "Completed Fit "
       ]
      },
      {
       "output_type": "stream",
       "stream": "stdout",
       "text": [
        " 34\n",
        "__________________________\n",
        "Completed Fit "
       ]
      },
      {
       "output_type": "stream",
       "stream": "stdout",
       "text": [
        " 35\n",
        "__________________________\n",
        "Completed Fit "
       ]
      },
      {
       "output_type": "stream",
       "stream": "stdout",
       "text": [
        " 36\n",
        "__________________________\n",
        "Completed Fit "
       ]
      },
      {
       "output_type": "stream",
       "stream": "stdout",
       "text": [
        " 37\n",
        "__________________________\n",
        "Completed Fit "
       ]
      },
      {
       "output_type": "stream",
       "stream": "stdout",
       "text": [
        " 38\n",
        "__________________________\n",
        "Completed Fit "
       ]
      },
      {
       "output_type": "stream",
       "stream": "stdout",
       "text": [
        " 39\n",
        "__________________________\n",
        "Completed Fit "
       ]
      },
      {
       "output_type": "stream",
       "stream": "stdout",
       "text": [
        " 40\n",
        "__________________________\n",
        "Completed Fit "
       ]
      },
      {
       "output_type": "stream",
       "stream": "stdout",
       "text": [
        " 41\n",
        "__________________________\n",
        "Completed Fit "
       ]
      },
      {
       "output_type": "stream",
       "stream": "stdout",
       "text": [
        " 42\n",
        "__________________________\n",
        "Completed Fit "
       ]
      },
      {
       "output_type": "stream",
       "stream": "stdout",
       "text": [
        " 43\n",
        "__________________________\n",
        "Completed Fit "
       ]
      },
      {
       "output_type": "stream",
       "stream": "stdout",
       "text": [
        " 44\n",
        "__________________________\n",
        "Completed Fit "
       ]
      },
      {
       "output_type": "stream",
       "stream": "stdout",
       "text": [
        " 45\n",
        "__________________________\n",
        "Completed Fit "
       ]
      },
      {
       "output_type": "stream",
       "stream": "stdout",
       "text": [
        " 46\n",
        "__________________________\n",
        "Completed Fit "
       ]
      },
      {
       "output_type": "stream",
       "stream": "stdout",
       "text": [
        " 47\n",
        "__________________________\n",
        "Completed Fit "
       ]
      },
      {
       "output_type": "stream",
       "stream": "stdout",
       "text": [
        " 48\n",
        "__________________________\n",
        "Completed Fit "
       ]
      },
      {
       "output_type": "stream",
       "stream": "stdout",
       "text": [
        " 49\n",
        "__________________________\n",
        "Completed Fit "
       ]
      },
      {
       "output_type": "stream",
       "stream": "stdout",
       "text": [
        " 50\n",
        "__________________________\n",
        "Completed Fit "
       ]
      },
      {
       "output_type": "stream",
       "stream": "stdout",
       "text": [
        " 51\n",
        "__________________________\n",
        "Completed Fit "
       ]
      },
      {
       "output_type": "stream",
       "stream": "stdout",
       "text": [
        " 52\n",
        "__________________________\n",
        "Completed Fit "
       ]
      },
      {
       "output_type": "stream",
       "stream": "stdout",
       "text": [
        " 53\n",
        "__________________________\n",
        "Completed Fit "
       ]
      },
      {
       "output_type": "stream",
       "stream": "stdout",
       "text": [
        " 54\n",
        "__________________________\n",
        "Completed Fit "
       ]
      },
      {
       "output_type": "stream",
       "stream": "stdout",
       "text": [
        " 55\n",
        "__________________________\n",
        "Completed Fit "
       ]
      },
      {
       "output_type": "stream",
       "stream": "stdout",
       "text": [
        " 56\n",
        "__________________________\n",
        "Completed Fit "
       ]
      },
      {
       "output_type": "stream",
       "stream": "stdout",
       "text": [
        " 57\n",
        "__________________________\n",
        "Completed Fit "
       ]
      },
      {
       "output_type": "stream",
       "stream": "stdout",
       "text": [
        " 58\n",
        "__________________________\n",
        "Completed Fit "
       ]
      },
      {
       "output_type": "stream",
       "stream": "stdout",
       "text": [
        " 59\n",
        "__________________________\n",
        "Completed Fit "
       ]
      },
      {
       "output_type": "stream",
       "stream": "stdout",
       "text": [
        " 60\n",
        "__________________________\n",
        "Completed Fit "
       ]
      },
      {
       "output_type": "stream",
       "stream": "stdout",
       "text": [
        " 61\n",
        "__________________________\n",
        "Completed Fit "
       ]
      },
      {
       "output_type": "stream",
       "stream": "stdout",
       "text": [
        " 62\n",
        "__________________________\n",
        "Completed Fit "
       ]
      },
      {
       "output_type": "stream",
       "stream": "stdout",
       "text": [
        " 63\n",
        "__________________________\n",
        "Completed Fit "
       ]
      },
      {
       "output_type": "stream",
       "stream": "stdout",
       "text": [
        " 64\n",
        "__________________________\n",
        "Completed Fit "
       ]
      },
      {
       "output_type": "stream",
       "stream": "stdout",
       "text": [
        " 65\n",
        "__________________________\n",
        "Completed Fit "
       ]
      },
      {
       "output_type": "stream",
       "stream": "stdout",
       "text": [
        " 66\n",
        "__________________________\n",
        "Completed Fit "
       ]
      },
      {
       "output_type": "stream",
       "stream": "stdout",
       "text": [
        " 67\n",
        "__________________________\n",
        "Completed Fit "
       ]
      },
      {
       "output_type": "stream",
       "stream": "stdout",
       "text": [
        " 68\n",
        "__________________________\n",
        "Completed Fit "
       ]
      },
      {
       "output_type": "stream",
       "stream": "stdout",
       "text": [
        " 69\n",
        "__________________________\n",
        "Completed Fit "
       ]
      },
      {
       "output_type": "stream",
       "stream": "stdout",
       "text": [
        " 70\n",
        "__________________________\n",
        "Completed Fit "
       ]
      },
      {
       "output_type": "stream",
       "stream": "stdout",
       "text": [
        " 71\n",
        "__________________________\n",
        "Completed Fit "
       ]
      },
      {
       "output_type": "stream",
       "stream": "stdout",
       "text": [
        " 72\n",
        "__________________________\n",
        "Completed Fit "
       ]
      },
      {
       "output_type": "stream",
       "stream": "stdout",
       "text": [
        " 73\n",
        "__________________________\n",
        "Completed Fit "
       ]
      },
      {
       "output_type": "stream",
       "stream": "stdout",
       "text": [
        " 74\n",
        "__________________________\n",
        "Completed Fit "
       ]
      },
      {
       "output_type": "stream",
       "stream": "stdout",
       "text": [
        " 75\n",
        "__________________________\n",
        "Completed Fit "
       ]
      },
      {
       "output_type": "stream",
       "stream": "stdout",
       "text": [
        " 76\n",
        "__________________________\n",
        "Completed Fit "
       ]
      },
      {
       "output_type": "stream",
       "stream": "stdout",
       "text": [
        " 77\n",
        "__________________________\n",
        "Completed Fit "
       ]
      },
      {
       "output_type": "stream",
       "stream": "stdout",
       "text": [
        " 78\n",
        "__________________________\n",
        "Completed Fit "
       ]
      },
      {
       "output_type": "stream",
       "stream": "stdout",
       "text": [
        " 79\n",
        "__________________________\n",
        "Completed Fit "
       ]
      },
      {
       "output_type": "stream",
       "stream": "stdout",
       "text": [
        " 80\n",
        "__________________________\n",
        "Completed Fit "
       ]
      },
      {
       "output_type": "stream",
       "stream": "stdout",
       "text": [
        " 81\n",
        "__________________________\n",
        "Completed Fit "
       ]
      },
      {
       "output_type": "stream",
       "stream": "stdout",
       "text": [
        " 82\n",
        "__________________________\n",
        "Completed Fit "
       ]
      },
      {
       "output_type": "stream",
       "stream": "stdout",
       "text": [
        " 83\n",
        "__________________________\n",
        "Completed Fit "
       ]
      },
      {
       "output_type": "stream",
       "stream": "stdout",
       "text": [
        " 84\n",
        "__________________________\n",
        "Completed Fit "
       ]
      },
      {
       "output_type": "stream",
       "stream": "stdout",
       "text": [
        " 85\n",
        "__________________________\n",
        "Completed Fit "
       ]
      },
      {
       "output_type": "stream",
       "stream": "stdout",
       "text": [
        " 86\n",
        "__________________________\n",
        "Completed Fit "
       ]
      },
      {
       "output_type": "stream",
       "stream": "stdout",
       "text": [
        " 87\n",
        "__________________________\n",
        "Completed Fit "
       ]
      },
      {
       "output_type": "stream",
       "stream": "stdout",
       "text": [
        " 88\n",
        "__________________________\n",
        "Completed Fit "
       ]
      },
      {
       "output_type": "stream",
       "stream": "stdout",
       "text": [
        " 89\n",
        "__________________________\n",
        "Completed Fit "
       ]
      },
      {
       "output_type": "stream",
       "stream": "stdout",
       "text": [
        " 90\n",
        "__________________________\n",
        "Completed Fit "
       ]
      },
      {
       "output_type": "stream",
       "stream": "stdout",
       "text": [
        " 91\n",
        "__________________________\n",
        "Completed Fit "
       ]
      },
      {
       "output_type": "stream",
       "stream": "stdout",
       "text": [
        " 92\n",
        "__________________________\n",
        "Completed Fit "
       ]
      },
      {
       "output_type": "stream",
       "stream": "stdout",
       "text": [
        " 93\n",
        "__________________________\n",
        "Completed Fit "
       ]
      },
      {
       "output_type": "stream",
       "stream": "stdout",
       "text": [
        " 94\n",
        "__________________________\n",
        "Completed Fit "
       ]
      },
      {
       "output_type": "stream",
       "stream": "stdout",
       "text": [
        " 95\n",
        "__________________________\n",
        "Completed Fit "
       ]
      },
      {
       "output_type": "stream",
       "stream": "stdout",
       "text": [
        " 96\n",
        "__________________________\n",
        "Excess work done on this call (perhaps wrong Dfun type)."
       ]
      },
      {
       "output_type": "stream",
       "stream": "stdout",
       "text": [
        "\n",
        "Run with full_output = 1 to get quantitative information.\n",
        "Completed Fit "
       ]
      },
      {
       "output_type": "stream",
       "stream": "stdout",
       "text": [
        " 97\n",
        "__________________________\n",
        "Completed Fit "
       ]
      },
      {
       "output_type": "stream",
       "stream": "stdout",
       "text": [
        " 98\n",
        "__________________________\n",
        "Completed Fit "
       ]
      },
      {
       "output_type": "stream",
       "stream": "stdout",
       "text": [
        " 99\n",
        "__________________________\n",
        "Completed Fit "
       ]
      },
      {
       "output_type": "stream",
       "stream": "stdout",
       "text": [
        " 100\n",
        "__________________________\n",
        "Completed Fit "
       ]
      },
      {
       "output_type": "stream",
       "stream": "stdout",
       "text": [
        " 101\n",
        "__________________________\n",
        "Completed Fit "
       ]
      },
      {
       "output_type": "stream",
       "stream": "stdout",
       "text": [
        " 102\n",
        "__________________________\n",
        "Completed Fit "
       ]
      },
      {
       "output_type": "stream",
       "stream": "stdout",
       "text": [
        " 103\n",
        "__________________________\n",
        "Completed Fit "
       ]
      },
      {
       "output_type": "stream",
       "stream": "stdout",
       "text": [
        " 104\n",
        "__________________________\n",
        "Completed Fit "
       ]
      },
      {
       "output_type": "stream",
       "stream": "stdout",
       "text": [
        " 105\n",
        "__________________________\n",
        "Completed Fit "
       ]
      },
      {
       "output_type": "stream",
       "stream": "stdout",
       "text": [
        " 106\n",
        "__________________________\n",
        "Completed Fit "
       ]
      },
      {
       "output_type": "stream",
       "stream": "stdout",
       "text": [
        " 107\n",
        "__________________________\n",
        "Completed Fit "
       ]
      },
      {
       "output_type": "stream",
       "stream": "stdout",
       "text": [
        " 108\n",
        "__________________________\n",
        "Completed Fit "
       ]
      },
      {
       "output_type": "stream",
       "stream": "stdout",
       "text": [
        " 109\n",
        "__________________________\n",
        "Completed Fit "
       ]
      },
      {
       "output_type": "stream",
       "stream": "stdout",
       "text": [
        " 110\n",
        "__________________________\n",
        "Completed Fit "
       ]
      },
      {
       "output_type": "stream",
       "stream": "stdout",
       "text": [
        " 111\n",
        "__________________________\n",
        "Completed Fit "
       ]
      },
      {
       "output_type": "stream",
       "stream": "stdout",
       "text": [
        " 112\n",
        "__________________________\n",
        "Completed Fit "
       ]
      },
      {
       "output_type": "stream",
       "stream": "stdout",
       "text": [
        " 113\n",
        "__________________________\n",
        "*******************\n",
        "elapsed time (min) = 4.12821666797\n"
       ]
      }
     ],
     "prompt_number": 3
    },
    {
     "cell_type": "code",
     "collapsed": false,
     "input": [
      "spec_result = 101\n",
      "report_fit(all_ps[spec_result], show_correl=False)"
     ],
     "language": "python",
     "metadata": {},
     "outputs": [
      {
       "output_type": "stream",
       "stream": "stdout",
       "text": [
        "[[Variables]]\n",
        "     E:               7914.343 +/- 8.693309 (0.11%) initial =  6500\n",
        "     UA:              283.57 (fixed)\n",
        "     k1:              1.526102 +/- 0.01379953 (0.90%) initial =  2.236\n",
        "     k10:             0 (fixed)\n",
        "     k11:             4.063 (fixed)\n",
        "     k2:              21.287 (fixed)\n",
        "     k3:              0 (fixed)\n",
        "     k4:              0 (fixed)\n",
        "     k5:              0 (fixed)\n",
        "     k6:              0 (fixed)\n",
        "     k7:              0 (fixed)\n",
        "     k8:              0 (fixed)\n",
        "     k9:              0 (fixed)\n",
        "     mu_0:            0.009276224 +/- 0.0001176479 (1.27%) initial =  0.03\n",
        "     prim_stab_0:     0 (fixed)\n",
        "     q:               0 (fixed)\n"
       ]
      }
     ],
     "prompt_number": 16
    },
    {
     "cell_type": "markdown",
     "metadata": {},
     "source": [
      "####Generating and plotting all model outputs"
     ]
    },
    {
     "cell_type": "code",
     "collapsed": false,
     "input": [
      "time_data, temp_data, torque_data = DataFile(files[spec_result]).simple_data()\n",
      "\n",
      "c_1 = half_cuts(torque_data)\n",
      "time_data = trim(time_data, c_1)\n",
      "temp_data = trim(temp_data, c_1)\n",
      "torque_data = trim(torque_data, c_1)\n",
      "\n",
      "curves = model_curves(all_ps[spec_result], time_data)"
     ],
     "language": "python",
     "metadata": {},
     "outputs": [],
     "prompt_number": 17
    },
    {
     "cell_type": "code",
     "collapsed": false,
     "input": [
      "HCl, LDH, poly_act, radical, prim_stab, deg_poly, x_link, T, Tm, mu, torque = curves"
     ],
     "language": "python",
     "metadata": {},
     "outputs": [],
     "prompt_number": 18
    },
    {
     "cell_type": "code",
     "collapsed": false,
     "input": [
      "figure()\n",
      "plot(time_data, torque, label='fitted torque curve')\n",
      "plot(time_data, torque_data, label='torque data')\n",
      "legend()\n",
      "\n",
      "figure()\n",
      "plot(time_data, Tm, label='fitted temp curve')\n",
      "plot(time_data, temp_data, label='temp data')\n",
      "legend()\n",
      "xlim([0, 15])\n",
      "\n",
      "figure()\n",
      "plot(time_data, HCl, '--', label='HCl')\n",
      "plot(time_data, LDH, label='LDH')\n",
      "#plot(time_data, poly_act, '-.', label='poly_act')\n",
      "plot(time_data, radical, ':', label='radical')\n",
      "plot(time_data, prim_stab, '--', label='prim_stab')\n",
      "plot(time_data, deg_poly, label='deg_poly')\n",
      "plot(time_data, x_link, label='x_link')\n",
      "legend()\n",
      "xlim([0, 26])"
     ],
     "language": "python",
     "metadata": {},
     "outputs": [
      {
       "metadata": {},
       "output_type": "pyout",
       "prompt_number": 19,
       "text": [
        "(0, 26)"
       ]
      },
      {
       "metadata": {},
       "output_type": "display_data",
       "png": "[encoded data removed]",
       "text": [
        "<matplotlib.figure.Figure at 0x14db45c0>"
       ]
      },
      {
       "metadata": {},
       "output_type": "display_data",
       "png": "[encoded data removed]",
       "text": [
        "<matplotlib.figure.Figure at 0x14dba780>"
       ]
      },
      {
       "metadata": {},
       "output_type": "display_data",
       "png": "[encoded data removed]",
       "text": [
        "<matplotlib.figure.Figure at 0x14973358>"
       ]
      }
     ],
     "prompt_number": 19
    },
    {
     "cell_type": "markdown",
     "metadata": {},
     "source": [
      "####Generating parameter vectors and plotting"
     ]
    },
    {
     "cell_type": "code",
     "collapsed": false,
     "input": [
      "para_V = parameter_vectors(all_ps)"
     ],
     "language": "python",
     "metadata": {},
     "outputs": [],
     "prompt_number": 20
    },
    {
     "cell_type": "code",
     "collapsed": false,
     "input": [
      "figure_headings = ['k1, visc-torque',\n",
      "                   'k2, Tm-T',\n",
      "                   'k3, LDH rxn',\n",
      "                   'k4, auto-catalytic HCl production rxn',\n",
      "                   'k5, initiation rxn for HCl production',\n",
      "                   'k6, primary stabiliser rxn',\n",
      "                   'k7, radical to degraded polymer',\n",
      "                   'k8, radical to cross-link',\n",
      "                   'k9, degraded polymer effect on visc',\n",
      "                   'k10, cross-linking effect on visc',\n",
      "                   'k11, mechanical work affecting temp',\n",
      "                   'UA',\n",
      "                   'mu_0',\n",
      "                   'E',\n",
      "                   'q',\n",
      "                   'prim_stab_0']"
     ],
     "language": "python",
     "metadata": {},
     "outputs": [],
     "prompt_number": 21
    },
    {
     "cell_type": "code",
     "collapsed": false,
     "input": [
      "for h, ps in zip(figure_headings, para_V):\n",
      "    figure().suptitle(h)\n",
      "    plot(ps, '.')"
     ],
     "language": "python",
     "metadata": {},
     "outputs": [
      {
       "metadata": {},
       "output_type": "display_data",
       "png": "[encoded data removed]",
       "text": [
        "<matplotlib.figure.Figure at 0x14dd8160>"
       ]
      },
      {
       "metadata": {},
       "output_type": "display_data",
       "png": "[encoded data removed]",
       "text": [
        "<matplotlib.figure.Figure at 0x14dae748>"
       ]
      },
      {
       "metadata": {},
       "output_type": "display_data",
       "png": "[encoded data removed]",
       "text": [
        "<matplotlib.figure.Figure at 0x14d2c588>"
       ]
      },
      {
       "metadata": {},
       "output_type": "display_data",
       "png": "[encoded data removed]",
       "text": [
        "<matplotlib.figure.Figure at 0x14d32358>"
       ]
      },
      {
       "metadata": {},
       "output_type": "display_data",
       "png": "[encoded data removed]",
       "text": [
        "<matplotlib.figure.Figure at 0x14dda828>"
       ]
      },
      {
       "metadata": {},
       "output_type": "display_data",
       "png": "[encoded data removed]",
       "text": [
        "<matplotlib.figure.Figure at 0x14d63240>"
       ]
      },
      {
       "metadata": {},
       "output_type": "display_data",
       "png": "[encoded data removed]",
       "text": [
        "<matplotlib.figure.Figure at 0x15c26080>"
       ]
      },
      {
       "metadata": {},
       "output_type": "display_data",
       "png": "[encoded data removed]",
       "text": [
        "<matplotlib.figure.Figure at 0x15a0ef98>"
       ]
      },
      {
       "metadata": {},
       "output_type": "display_data",
       "png": "[encoded data removed]",
       "text": [
        "<matplotlib.figure.Figure at 0x15a2e710>"
       ]
      },
      {
       "metadata": {},
       "output_type": "display_data",
       "png": "[encoded data removed]",
       "text": [
        "<matplotlib.figure.Figure at 0x15c8e668>"
       ]
      },
      {
       "metadata": {},
       "output_type": "display_data",
       "png": "[encoded data removed]",
       "text": [
        "<matplotlib.figure.Figure at 0x15caae80>"
       ]
      },
      {
       "metadata": {},
       "output_type": "display_data",
       "png": "[encoded data removed]",
       "text": [
        "<matplotlib.figure.Figure at 0x15f11d30>"
       ]
      },
      {
       "metadata": {},
       "output_type": "display_data",
       "png": "[encoded data removed]",
       "text": [
        "<matplotlib.figure.Figure at 0x15f23ac8>"
       ]
      },
      {
       "metadata": {},
       "output_type": "display_data",
       "png": "[encoded data removed]",
       "text": [
        "<matplotlib.figure.Figure at 0x16059160>"
       ]
      },
      {
       "metadata": {},
       "output_type": "display_data",
       "png": "[encoded data removed]",
       "text": [
        "<matplotlib.figure.Figure at 0x1607bfd0>"
       ]
      },
      {
       "metadata": {},
       "output_type": "display_data",
       "png": "[encoded data removed]",
       "text": [
        "<matplotlib.figure.Figure at 0x1619be80>"
       ]
      }
     ],
     "prompt_number": 22
    },
    {
     "cell_type": "markdown",
     "metadata": {},
     "source": [
      "#### Placing parameters into DataFrame"
     ]
    },
    {
     "cell_type": "code",
     "collapsed": false,
     "input": [
      "from pandas import DataFrame"
     ],
     "language": "python",
     "metadata": {},
     "outputs": [],
     "prompt_number": 23
    },
    {
     "cell_type": "code",
     "collapsed": false,
     "input": [
      "para_frame = DataFrame.from_records(para_V, index=figure_headings).transpose()"
     ],
     "language": "python",
     "metadata": {},
     "outputs": [],
     "prompt_number": 24
    },
    {
     "cell_type": "code",
     "collapsed": false,
     "input": [
      "para_frame.mean(axis=0)"
     ],
     "language": "python",
     "metadata": {},
     "outputs": [
      {
       "metadata": {},
       "output_type": "pyout",
       "prompt_number": 25,
       "text": [
        "k1, visc-torque                             1.681259\n",
        "k2, Tm-T                                   21.287000\n",
        "k3, LDH rxn                                 0.000000\n",
        "k4, auto-catalytic HCl production rxn       0.000000\n",
        "k5, initiation rxn for HCl production       0.000000\n",
        "k6, primary stabiliser rxn                  0.000000\n",
        "k7, radical to degraded polymer             0.000000\n",
        "k8, radical to cross-link                   0.000000\n",
        "k9, degraded polymer effect on visc         0.000000\n",
        "k10, cross-linking effect on visc           0.000000\n",
        "k11, mechanical work affecting temp         4.063000\n",
        "UA                                        283.570000\n",
        "mu_0                                        0.013493\n",
        "E                                        7392.804344\n",
        "q                                           0.000000\n",
        "prim_stab_0                                 0.000000\n",
        "dtype: float64"
       ]
      }
     ],
     "prompt_number": 25
    },
    {
     "cell_type": "markdown",
     "metadata": {},
     "source": [
      "Upper bound values = mean + 2.std"
     ]
    },
    {
     "cell_type": "code",
     "collapsed": false,
     "input": [
      "para_frame.mean(axis=0) + 2*para_frame.std(axis=0)"
     ],
     "language": "python",
     "metadata": {},
     "outputs": [
      {
       "metadata": {},
       "output_type": "pyout",
       "prompt_number": 14,
       "text": [
        "k1, visc-torque                              2.236000\n",
        "k2, Tm-T                                    21.287001\n",
        "k3, LDH rxn                                  0.000000\n",
        "k4, auto-catalytic HCl production rxn        0.000000\n",
        "k5, initiation rxn for HCl production        0.000000\n",
        "k6, primary stabiliser rxn                   0.000000\n",
        "k7, radical to degraded polymer              0.000000\n",
        "k8, radical to cross-link                    0.000000\n",
        "k9, degraded polymer effect on visc          0.000000\n",
        "k10, cross-linking effect on visc            0.000000\n",
        "k11, mechanical work affecting temp          4.063001\n",
        "UA                                         283.570039\n",
        "mu_0                                         0.016739\n",
        "E                                        11434.809838\n",
        "q                                            0.000000\n",
        "prim_stab_0                                  0.000000\n",
        "dtype: float64"
       ]
      }
     ],
     "prompt_number": 14
    },
    {
     "cell_type": "code",
     "collapsed": false,
     "input": [
      "para_frame.mean(axis=0) - 2*para_frame.std(axis=0)"
     ],
     "language": "python",
     "metadata": {},
     "outputs": [
      {
       "metadata": {},
       "output_type": "pyout",
       "prompt_number": 15,
       "text": [
        "k1, visc-torque                             2.236000\n",
        "k2, Tm-T                                   21.286999\n",
        "k3, LDH rxn                                 0.000000\n",
        "k4, auto-catalytic HCl production rxn       0.000000\n",
        "k5, initiation rxn for HCl production       0.000000\n",
        "k6, primary stabiliser rxn                  0.000000\n",
        "k7, radical to degraded polymer             0.000000\n",
        "k8, radical to cross-link                   0.000000\n",
        "k9, degraded polymer effect on visc         0.000000\n",
        "k10, cross-linking effect on visc           0.000000\n",
        "k11, mechanical work affecting temp         4.062999\n",
        "UA                                        283.569961\n",
        "mu_0                                       -0.006945\n",
        "E                                        5848.097528\n",
        "q                                           0.000000\n",
        "prim_stab_0                                 0.000000\n",
        "dtype: float64"
       ]
      }
     ],
     "prompt_number": 15
    },
    {
     "cell_type": "code",
     "collapsed": false,
     "input": [],
     "language": "python",
     "metadata": {},
     "outputs": []
    }
   ],
   "metadata": {}
  }
 ]
}