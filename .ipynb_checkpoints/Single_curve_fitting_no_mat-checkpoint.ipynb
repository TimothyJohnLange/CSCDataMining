{
 "metadata": {
  "name": ""
 },
 "nbformat": 3,
 "nbformat_minor": 0,
 "worksheets": [
  {
   "cells": [
    {
     "cell_type": "markdown",
     "metadata": {},
     "source": [
      "## Single Curve Fitting: PVC stabilisation of LDH\n",
      "#### Without expressing rates using matrix form"
     ]
    },
    {
     "cell_type": "code",
     "collapsed": false,
     "input": [
      "import pandas as pd\n",
      "%pylab inline\n",
      "from scipy.integrate import odeint"
     ],
     "language": "python",
     "metadata": {},
     "outputs": [
      {
       "output_type": "stream",
       "stream": "stdout",
       "text": [
        "Populating the interactive namespace from numpy and matplotlib\n"
       ]
      }
     ],
     "prompt_number": 10
    },
    {
     "cell_type": "markdown",
     "metadata": {},
     "source": [
      "#### Reading Experimental Data"
     ]
    },
    {
     "cell_type": "code",
     "collapsed": false,
     "input": [
      "data = pd.read_table('03_PHR_Alcamizer.txt', skiprows = 4, sep = ';', usecols = range(6))"
     ],
     "language": "python",
     "metadata": {},
     "outputs": [],
     "prompt_number": 11
    },
    {
     "cell_type": "code",
     "collapsed": false,
     "input": [
      "time_data = data['t [min]'].values\n",
      "temp_data = data[data.columns[4]].values\n",
      "torque_data = data['M [Nm]'].values"
     ],
     "language": "python",
     "metadata": {},
     "outputs": [],
     "prompt_number": 12
    },
    {
     "cell_type": "markdown",
     "metadata": {},
     "source": [
      "#### Parameters\n",
      "Temperature viscosity curve parameters"
     ]
    },
    {
     "cell_type": "code",
     "collapsed": false,
     "input": [
      "R = 8.314 \n",
      "Cp = 900.\n",
      "m = 0.5\n",
      "T_inf = 208.\n",
      "UA = 340.\n",
      "k1 = 2.\n",
      "mu0 = 0.03\n",
      "E = 6500.\n",
      "T0 = 125.\n",
      "k2 = 5."
     ],
     "language": "python",
     "metadata": {},
     "outputs": [],
     "prompt_number": 13
    },
    {
     "cell_type": "markdown",
     "metadata": {},
     "source": [
      "Reaction kinetics parameters"
     ]
    },
    {
     "cell_type": "code",
     "collapsed": false,
     "input": [
      "n = 10.\n",
      "k3 = 0.\n",
      "k4 = 0.\n",
      "k5 = 0.\n",
      "k6 = 0.\n",
      "k7 = 0.\n",
      "HCl_0 = 0.001\n",
      "LDH_0 = 0.3\n",
      "poly_act_0 = 2.\n",
      "prim_stab_0 = 1.2"
     ],
     "language": "python",
     "metadata": {},
     "outputs": [],
     "prompt_number": 14
    },
    {
     "cell_type": "markdown",
     "metadata": {},
     "source": [
      "#### Chemical Equations\n",
      "1. nHCl + LDH -> nHCl.LDH  (LDH scavenging HCl, LDH is a secondary stabiliser)\n",
      "2. HCl + polymer active sites -> 2HCl + radical\n",
      "3. radical + primary stabiliser -> radical.primary stabiliser  (primary stabilisation)\n",
      "4. radical -> degraded polymer"
     ]
    },
    {
     "cell_type": "markdown",
     "metadata": {},
     "source": [
      "#### Rates of chemical reactions"
     ]
    },
    {
     "cell_type": "code",
     "collapsed": false,
     "input": [
      "def r1(k3, HCl, LDH):\n",
      "    r1 = k3*HCl*LDH\n",
      "    return r1\n",
      "\n",
      "def r2(k4, HCl, poly_act):\n",
      "    r2 = k4*HCl*poly_act\n",
      "    return r2\n",
      "\n",
      "def r3(k5, radical, prim_stab):\n",
      "    r3 = k5*radical*prim_stab\n",
      "    return r3\n",
      "\n",
      "def r4(k6, radical):\n",
      "    r4 = k6*radical\n",
      "    return r4"
     ],
     "language": "python",
     "metadata": {},
     "outputs": [],
     "prompt_number": 15
    },
    {
     "cell_type": "markdown",
     "metadata": {},
     "source": [
      "#### Solving Differential Equations\n",
      "Differential equations are expressed with out using the matrix form"
     ]
    },
    {
     "cell_type": "code",
     "collapsed": false,
     "input": [
      "def dCdt(A, time):\n",
      "    HCl = A[0]\n",
      "    LDH = A[1]\n",
      "    poly_act = A[2]\n",
      "    radical = A[3]\n",
      "    prim_stab = A[4]\n",
      "    deg_poly = A[5]\n",
      "    \n",
      "    dHCldt = - n*r1(k3, HCl, LDH) + r2(k4, HCl, poly_act)\n",
      "    dLDHdt = - r1(k3, HCl, LDH)\n",
      "    d_poly_act_dt = - r2(k4, HCl, poly_act)\n",
      "    d_radical_dt = r2(k4, HCl, poly_act)\n",
      "    - r3(k5, radical, prim_stab) - r4(k6, radical)\n",
      "    d_prim_stab_dt = - r3(k5, radical, prim_stab)\n",
      "    d_deg_poly_dt = r4(k6, radical)\n",
      "    \n",
      "    return [dHCldt,\n",
      "            dLDHdt,\n",
      "            d_poly_act_dt,\n",
      "            d_radical_dt, \n",
      "            d_prim_stab_dt,\n",
      "            d_deg_poly_dt]"
     ],
     "language": "python",
     "metadata": {},
     "outputs": [],
     "prompt_number": 25
    },
    {
     "cell_type": "code",
     "collapsed": false,
     "input": [
      "time = linspace(0, time_data[len(time_data) - 1], 100)"
     ],
     "language": "python",
     "metadata": {},
     "outputs": [],
     "prompt_number": 26
    },
    {
     "cell_type": "markdown",
     "metadata": {},
     "source": [
      "Initial Conditions"
     ]
    },
    {
     "cell_type": "code",
     "collapsed": false,
     "input": [
      "A_0 = array([HCl_0,\n",
      "             LDH_0,\n",
      "             poly_act_0,\n",
      "             0.,\n",
      "             prim_stab_0,\n",
      "             0.])"
     ],
     "language": "python",
     "metadata": {},
     "outputs": [],
     "prompt_number": 27
    },
    {
     "cell_type": "code",
     "collapsed": false,
     "input": [
      "soln = odeint(dCdt, A_0, time)"
     ],
     "language": "python",
     "metadata": {},
     "outputs": [],
     "prompt_number": 28
    },
    {
     "cell_type": "code",
     "collapsed": false,
     "input": [
      "HCl = soln[:, 0]\n",
      "LDH = soln[:, 1]\n",
      "poly_act = soln[:, 2]\n",
      "radical = soln[:, 3]\n",
      "prim_stab = soln[:, 4]\n",
      "deg_poly = soln[:, 5]"
     ],
     "language": "python",
     "metadata": {},
     "outputs": [],
     "prompt_number": 29
    },
    {
     "cell_type": "code",
     "collapsed": false,
     "input": [
      "plot(time, HCl, '-',\n",
      "     time, LDH, '--')\n",
      "     #time, poly_act, '-.',\n",
      "     #time, radical, ':',\n",
      "     #time, prim_stab,\n",
      "     #time, deg_poly)"
     ],
     "language": "python",
     "metadata": {},
     "outputs": [
      {
       "metadata": {},
       "output_type": "pyout",
       "prompt_number": 30,
       "text": [
        "[<matplotlib.lines.Line2D at 0xc0d4978>,\n",
        " <matplotlib.lines.Line2D at 0xc0d4ba8>]"
       ]
      },
      {
       "metadata": {},
       "output_type": "display_data",
       "png": "[encoded data removed]",
       "text": [
        "<matplotlib.figure.Figure at 0xc1de208>"
       ]
      }
     ],
     "prompt_number": 30
    },
    {
     "cell_type": "code",
     "collapsed": false,
     "input": [],
     "language": "python",
     "metadata": {},
     "outputs": [],
     "prompt_number": 20
    },
    {
     "cell_type": "code",
     "collapsed": false,
     "input": [],
     "language": "python",
     "metadata": {},
     "outputs": []
    }
   ],
   "metadata": {}
  }
 ]
}