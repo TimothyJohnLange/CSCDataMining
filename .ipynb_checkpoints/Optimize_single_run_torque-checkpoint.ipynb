{
 "metadata": {
  "name": ""
 },
 "nbformat": 3,
 "nbformat_minor": 0,
 "worksheets": [
  {
   "cells": [
    {
     "cell_type": "markdown",
     "metadata": {},
     "source": [
      "### Optimizing function over one data set (torque)"
     ]
    },
    {
     "cell_type": "code",
     "collapsed": false,
     "input": [
      "import pandas as pd\n",
      "from scipy.optimize import curve_fit\n",
      "from curve_func import torque_curve\n",
      "%pylab inline"
     ],
     "language": "python",
     "metadata": {},
     "outputs": [
      {
       "output_type": "stream",
       "stream": "stdout",
       "text": [
        "Populating the interactive namespace from numpy and matplotlib\n"
       ]
      }
     ],
     "prompt_number": 2
    },
    {
     "cell_type": "markdown",
     "metadata": {},
     "source": [
      "####Reading data from file"
     ]
    },
    {
     "cell_type": "code",
     "collapsed": false,
     "input": [
      "data = pd.read_table('03_PHR_Alcamizer.txt',\n",
      "                     skiprows = 4,\n",
      "                     sep = ';',\n",
      "                     usecols = range(6))"
     ],
     "language": "python",
     "metadata": {},
     "outputs": [],
     "prompt_number": 3
    },
    {
     "cell_type": "code",
     "collapsed": false,
     "input": [
      "time_data = data['t [min]'].values\n",
      "temp_data = data[data.columns[4]].values\n",
      "torque_data = data['M [Nm]'].values\n",
      "# Manually 'trimming' torque data to only the part of the curve we want to fit\n",
      "# ie removing zeros from beginning and dip from end\n",
      "time_data = time_data[14:1000]\n",
      "torque_data = torque_data[14:1000]"
     ],
     "language": "python",
     "metadata": {},
     "outputs": [],
     "prompt_number": 4
    },
    {
     "cell_type": "markdown",
     "metadata": {},
     "source": [
      "#### Fitting curve parameters using optimization routine"
     ]
    },
    {
     "cell_type": "markdown",
     "metadata": {},
     "source": [
      "Intitial guess"
     ]
    },
    {
     "cell_type": "code",
     "collapsed": false,
     "input": [
      "UA = 340.\n",
      "k2 = 5.\n",
      "k3 = 0.35\n",
      "k4 = 0.3\n",
      "k5 = 0.001\n",
      "k6 = 1.\n",
      "k7 = 0.1\n",
      "k8 = 0.05\n",
      "k1 = 2.\n",
      "mu_0 = 0.03\n",
      "E = 6500.\n",
      "k9 = 1.\n",
      "k10 = 2.\n",
      "q = 2.5\n",
      "k11 = 1. #Mechanical Work Factor\n",
      "prim_stab_0 = 0.7"
     ],
     "language": "python",
     "metadata": {},
     "outputs": [],
     "prompt_number": 5
    },
    {
     "cell_type": "code",
     "collapsed": false,
     "input": [
      "p_0 = array([k1, k2, k3, k4, k5, k6,\n",
      "             k7, k8, k9, k10, k11,\n",
      "             UA, mu_0, E, q, prim_stab_0])"
     ],
     "language": "python",
     "metadata": {},
     "outputs": [],
     "prompt_number": 6
    },
    {
     "cell_type": "code",
     "collapsed": false,
     "input": [
      "p = curve_fit(torque_curve, time_data, torque_data, p_0)"
     ],
     "language": "python",
     "metadata": {},
     "outputs": [
      {
       "output_type": "stream",
       "stream": "stdout",
       "text": [
        "Illegal input detected (internal error).\n",
        "Run with full_output = 1 to get quantitative information.\n",
        "Illegal input detected (internal error).\n",
        "Run with full_output = 1 to get quantitative information.\n",
        "Illegal input detected (internal error).\n",
        "Run with full_output = 1 to get quantitative information.\n",
        "Excess accuracy requested (tolerances too small).\n",
        "Run with full_output = 1 to get quantitative information.\n",
        "Excess work done on this call (perhaps wrong Dfun type)."
       ]
      },
      {
       "output_type": "stream",
       "stream": "stdout",
       "text": [
        "\n",
        "Run with full_output = 1 to get quantitative information.\n",
        "Excess accuracy requested (tolerances too small).\n",
        "Run with full_output = 1 to get quantitative information.\n",
        "Excess work done on this call (perhaps wrong Dfun type)."
       ]
      },
      {
       "output_type": "stream",
       "stream": "stdout",
       "text": [
        "\n",
        "Run with full_output = 1 to get quantitative information.\n",
        "Excess work done on this call (perhaps wrong Dfun type).\n",
        "Run with full_output = 1 to get quantitative information.\n"
       ]
      }
     ],
     "prompt_number": 7
    },
    {
     "cell_type": "code",
     "collapsed": false,
     "input": [
      "k1, k2, k3, k4, k5, k6, k7, k8, k9, k10, k11, UA, mu_0, E, q, prim_stab_0 = p[0]"
     ],
     "language": "python",
     "metadata": {},
     "outputs": [],
     "prompt_number": 8
    },
    {
     "cell_type": "code",
     "collapsed": false,
     "input": [
      "print 'torque = k1*mu,          k1 =', k1.round(3)\n",
      "print 'dTmdt = k2*(T - Tm),     k2 =', k2.round(3)\n",
      "print 'HCl + LDH -> HCl.LDH,    k3 =', k3.round(3)\n",
      "print 'auto-catalytic,          k4 =', k4.round(3)\n",
      "print 'initiation reaction,     k5 =', k5.round(3)\n",
      "print 'prim_stab reaction,      k6 =', k6.round(3)\n",
      "print 'deg_poly formed,         k7 =', k7.round(3)\n",
      "print 'x-link formed,           k8 =', k8.round(3)\n",
      "print 'deg_poly effect on vis,  k9 =', k9.round(3)\n",
      "print 'x-link effect on vis     k10 =', k10.round(3)\n",
      "print 'mechanical work on T,    k11 =', k11.round(3)\n",
      "print 'heat transfer,           UA =', UA.round(3)\n",
      "print 'vis pre-exp constant,    mu_0 =', mu_0.round(3)\n",
      "print 'activation energy,       E =', E.round(3)\n",
      "print 'x-link effect on vis,    q =', q.round(3)\n",
      "print '                         prim_stab_0 =', prim_stab_0.round(3)"
     ],
     "language": "python",
     "metadata": {},
     "outputs": [
      {
       "output_type": "stream",
       "stream": "stdout",
       "text": [
        "torque = k1*mu,          k1 = 2.606\n",
        "dTmdt = k2*(T - Tm),     k2 = 12742.299\n",
        "HCl + LDH -> HCl.LDH,    k3 = 0.357\n",
        "auto-catalytic,          k4 = 0.298\n",
        "initiation reaction,     k5 = 0.001\n",
        "prim_stab reaction,      k6 = 1.487\n",
        "deg_poly formed,         k7 = 0.068\n",
        "x-link formed,           k8 = 0.053\n",
        "deg_poly effect on vis,  k9 = -0.314\n",
        "x-link effect on vis     k10 = 2.033\n",
        "mechanical work on T,    k11 = 0.329\n",
        "heat transfer,           UA = 254.089\n",
        "vis pre-exp constant,    mu_0 = 0.031\n",
        "activation energy,       E = 5835.015\n",
        "x-link effect on vis,    q = 5.1\n",
        "                         prim_stab_0 = 0.755\n"
       ]
      }
     ],
     "prompt_number": 9
    },
    {
     "cell_type": "code",
     "collapsed": false,
     "input": [
      "torque = torque_curve(time_data, k1, k2, k3, k4, k5, k6,\n",
      "                      k7, k8, k9, k10, k11,\n",
      "                      UA, mu_0, E, q, prim_stab_0) "
     ],
     "language": "python",
     "metadata": {},
     "outputs": [],
     "prompt_number": 10
    },
    {
     "cell_type": "code",
     "collapsed": false,
     "input": [
      "plot(time_data, torque, label='fitted curve')\n",
      "plot(time_data, torque_data, label='data')\n",
      "legend()"
     ],
     "language": "python",
     "metadata": {},
     "outputs": [
      {
       "metadata": {},
       "output_type": "pyout",
       "prompt_number": 11,
       "text": [
        "<matplotlib.legend.Legend at 0x14188978>"
       ]
      },
      {
       "metadata": {},
       "output_type": "display_data",
       "png": "[encoded data removed]",
       "text": [
        "<matplotlib.figure.Figure at 0x141043c8>"
       ]
      }
     ],
     "prompt_number": 11
    },
    {
     "cell_type": "code",
     "collapsed": false,
     "input": [
      "from full_output_func import diff_eq_out"
     ],
     "language": "python",
     "metadata": {},
     "outputs": [],
     "prompt_number": 12
    },
    {
     "cell_type": "code",
     "collapsed": false,
     "input": [
      "soln = diff_eq_out(time_data, p[0])"
     ],
     "language": "python",
     "metadata": {},
     "outputs": [],
     "prompt_number": 13
    },
    {
     "cell_type": "code",
     "collapsed": false,
     "input": [
      "HCl = soln[:, 0]\n",
      "LDH = soln[:, 1]\n",
      "poly_act = soln[:, 2]\n",
      "radical = soln[:, 3]\n",
      "prim_stab = soln[:, 4]\n",
      "deg_poly = soln[:, 5]\n",
      "x_link = soln[:, 6]\n",
      "T = soln[:, 7]\n",
      "Tm = soln[:, 8]"
     ],
     "language": "python",
     "metadata": {},
     "outputs": [],
     "prompt_number": 14
    },
    {
     "cell_type": "code",
     "collapsed": false,
     "input": [
      "plot(time_data, HCl, '--', label='HCl')\n",
      "plot(time_data, LDH, label='LDH')\n",
      "#plot(time_data, poly_act, '-.', label='poly_act')\n",
      "plot(time_data, radical, ':', label='radical')\n",
      "plot(time_data, prim_stab, '--', label='prim_stab')\n",
      "plot(time_data, deg_poly, label='deg_poly')\n",
      "plot(time_data, x_link, label='x_link')\n",
      "legend()\n",
      "xlim([0,33])"
     ],
     "language": "python",
     "metadata": {},
     "outputs": [
      {
       "metadata": {},
       "output_type": "pyout",
       "prompt_number": 15,
       "text": [
        "(0, 33)"
       ]
      },
      {
       "metadata": {},
       "output_type": "display_data",
       "png": "[encoded data removed]",
       "text": [
        "<matplotlib.figure.Figure at 0x14119630>"
       ]
      }
     ],
     "prompt_number": 15
    },
    {
     "cell_type": "code",
     "collapsed": false,
     "input": [],
     "language": "python",
     "metadata": {},
     "outputs": []
    }
   ],
   "metadata": {}
  }
 ]
}