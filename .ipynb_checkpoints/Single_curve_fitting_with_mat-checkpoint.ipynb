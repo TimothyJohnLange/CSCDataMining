{
 "metadata": {
  "name": ""
 },
 "nbformat": 3,
 "nbformat_minor": 0,
 "worksheets": [
  {
   "cells": [
    {
     "cell_type": "markdown",
     "metadata": {},
     "source": [
      "## Single Curve Fitting: PVC stabilisation of LDH\n",
      "#### With expressing dCdt as matrix"
     ]
    },
    {
     "cell_type": "code",
     "collapsed": false,
     "input": [
      "import pandas as pd\n",
      "%pylab inline\n",
      "from scipy.integrate import odeint"
     ],
     "language": "python",
     "metadata": {},
     "outputs": [
      {
       "output_type": "stream",
       "stream": "stdout",
       "text": [
        "Populating the interactive namespace from numpy and matplotlib\n"
       ]
      }
     ],
     "prompt_number": 1
    },
    {
     "cell_type": "code",
     "collapsed": false,
     "input": [
      "data = pd.read_table('03_PHR_Alcamizer.txt', skiprows = 4, sep = ';', usecols = range(6))"
     ],
     "language": "python",
     "metadata": {},
     "outputs": [],
     "prompt_number": 2
    },
    {
     "cell_type": "code",
     "collapsed": false,
     "input": [
      "time_data = data['t [min]'].values\n",
      "temp_data = data[data.columns[4]].values\n",
      "torque_data = data['M [Nm]'].values"
     ],
     "language": "python",
     "metadata": {},
     "outputs": [],
     "prompt_number": 3
    },
    {
     "cell_type": "markdown",
     "metadata": {},
     "source": [
      "#### Parameters\n",
      "Temperature curve parameters"
     ]
    },
    {
     "cell_type": "code",
     "collapsed": false,
     "input": [
      "R = 8.314 \n",
      "Cp = 900.\n",
      "m = 0.5\n",
      "T_inf = 208.\n",
      "UA = 340.\n",
      "T_0 = 125.\n",
      "k2 = 5.\n",
      "Tm_0 = 200."
     ],
     "language": "python",
     "metadata": {},
     "outputs": [],
     "prompt_number": 4
    },
    {
     "cell_type": "markdown",
     "metadata": {},
     "source": [
      "Reaction kinetics parameters"
     ]
    },
    {
     "cell_type": "code",
     "collapsed": false,
     "input": [
      "n = 10.\n",
      "k3 = 0.35\n",
      "k4 = 0.3\n",
      "k5 = 0.001\n",
      "k6 = 1.\n",
      "k7 = 0.1\n",
      "k8 = 0.05\n",
      "HCl_0 = 0.\n",
      "LDH_0 = 0.3\n",
      "poly_act_0 = 5.\n",
      "prim_stab_0 = 0.5"
     ],
     "language": "python",
     "metadata": {},
     "outputs": [],
     "prompt_number": 5
    },
    {
     "cell_type": "markdown",
     "metadata": {},
     "source": [
      "#### Chemical Reaction Equations\n",
      "1. nHCl + LDH -> nHCl.LDH  (LDH scavenging HCl, LDH is a secondary stabiliser)\n",
      "2. HCl + polymer active sites -> 2HCl + radical\n",
      "3. polymer active sites -> HCl + radical (new reaction)\n",
      "4. radical + primary stabiliser -> radical.primary stabiliser  (primary stabilisation)\n",
      "5. radical -> degraded polymer\n",
      "6. 2 radical -> cross link"
     ]
    },
    {
     "cell_type": "markdown",
     "metadata": {},
     "source": [
      "Stoichiometric Matrix"
     ]
    },
    {
     "cell_type": "code",
     "collapsed": false,
     "input": [
      "stoyk  = array([[-n, -1., 0., 0., 0., 0., 0.],\n",
      "                [1., 0., -1., 1., 0., 0., 0.],\n",
      "                [1., 0., -1., 1., 0., 0., 0.],\n",
      "                [0., 0., 0., -1., -1., 0., 0.],\n",
      "                [0., 0., 0., -1., 0., 1., 0.],\n",
      "                [0., 0., 0., -2., 0., 0., 1.]])"
     ],
     "language": "python",
     "metadata": {},
     "outputs": [],
     "prompt_number": 6
    },
    {
     "cell_type": "markdown",
     "metadata": {},
     "source": [
      "#### Rates of chemical reactions"
     ]
    },
    {
     "cell_type": "code",
     "collapsed": false,
     "input": [
      "from rxn_rates import *"
     ],
     "language": "python",
     "metadata": {},
     "outputs": [],
     "prompt_number": 7
    },
    {
     "cell_type": "markdown",
     "metadata": {},
     "source": [
      "####Viscosity and torque equations\n",
      "parameters"
     ]
    },
    {
     "cell_type": "code",
     "collapsed": false,
     "input": [
      "k1 = 2.\n",
      "mu_0 = 0.03\n",
      "E = 6500.\n",
      "k9 = 1.\n",
      "k10 = 2.\n",
      "q = 2.5\n",
      "k11 = 1. #Mechanical Work Factor"
     ],
     "language": "python",
     "metadata": {},
     "outputs": [],
     "prompt_number": 8
    },
    {
     "cell_type": "markdown",
     "metadata": {},
     "source": [
      "equations"
     ]
    },
    {
     "cell_type": "code",
     "collapsed": false,
     "input": [
      "from visc_torque_eq import *"
     ],
     "language": "python",
     "metadata": {},
     "outputs": [],
     "prompt_number": 9
    },
    {
     "cell_type": "markdown",
     "metadata": {},
     "source": [
      "#### Temperature differential equations "
     ]
    },
    {
     "cell_type": "code",
     "collapsed": false,
     "input": [
      "from temp_der import *"
     ],
     "language": "python",
     "metadata": {},
     "outputs": [],
     "prompt_number": 10
    },
    {
     "cell_type": "markdown",
     "metadata": {},
     "source": [
      "#### Solving Differential Equations\n",
      "Differential equations for concentrations are expressed as the dot product of the transpose of the stoichiometric matrix and the rate vector"
     ]
    },
    {
     "cell_type": "code",
     "collapsed": false,
     "input": [
      "def dXdt(A, time):\n",
      "    HCl, LDH, poly_act, radical, prim_stab, deg_poly, x_link, T, Tm = A\n",
      "    r = array([r1(k3, HCl, LDH),\n",
      "               r2(k4, HCl, poly_act),\n",
      "               r3(k5, poly_act),\n",
      "               r4(k6, radical, prim_stab),\n",
      "               r5(k7, radical),\n",
      "               r6(k8, radical)])\n",
      "    return append(squeeze(stoyk.T.dot(r)),\n",
      "                  [dTdt(T, mu_0, E, UA, k9, deg_poly, k10, x_link, q, k11),\n",
      "                   dTmdt(T, Tm, k2)\n",
      "                   ])  # need to squeeze here to get a 1-D array for the solver"
     ],
     "language": "python",
     "metadata": {},
     "outputs": [],
     "prompt_number": 11
    },
    {
     "cell_type": "code",
     "collapsed": false,
     "input": [
      "time = linspace(0, time_data[len(time_data) - 1], 100)"
     ],
     "language": "python",
     "metadata": {},
     "outputs": [],
     "prompt_number": 20
    },
    {
     "cell_type": "markdown",
     "metadata": {},
     "source": [
      "Initial Conditions"
     ]
    },
    {
     "cell_type": "code",
     "collapsed": false,
     "input": [
      "A_0 = array([HCl_0,\n",
      "             LDH_0,\n",
      "             poly_act_0,\n",
      "             0.,\n",
      "             prim_stab_0,\n",
      "             0.,\n",
      "             0.,\n",
      "             T_0,\n",
      "             Tm_0])"
     ],
     "language": "python",
     "metadata": {},
     "outputs": [],
     "prompt_number": 21
    },
    {
     "cell_type": "code",
     "collapsed": false,
     "input": [
      "soln = odeint(dXdt, A_0, time)"
     ],
     "language": "python",
     "metadata": {},
     "outputs": [],
     "prompt_number": 22
    },
    {
     "cell_type": "code",
     "collapsed": false,
     "input": [
      "HCl = soln[:, 0]\n",
      "LDH = soln[:, 1]\n",
      "poly_act = soln[:, 2]\n",
      "radical = soln[:, 3]\n",
      "prim_stab = soln[:, 4]\n",
      "deg_poly = soln[:, 5]\n",
      "x_link = soln[:, 6]\n",
      "T = soln[:, 7]\n",
      "Tm = soln[:, 8]"
     ],
     "language": "python",
     "metadata": {},
     "outputs": [],
     "prompt_number": 15
    },
    {
     "cell_type": "markdown",
     "metadata": {},
     "source": [
      "#### Torque Curve"
     ]
    },
    {
     "cell_type": "code",
     "collapsed": false,
     "input": [
      "mu_V = zeros(len(time))\n",
      "torque_V = zeros(len(time))\n",
      "\n",
      "for i in range(0,len(time)):\n",
      "    mu_V[i] = mu(mu_0, E, R, T[i], k9, deg_poly[i], k10, x_link[i], q)\n",
      "    torque_V[i] = torque(k1, mu_V[i])"
     ],
     "language": "python",
     "metadata": {},
     "outputs": [],
     "prompt_number": 16
    },
    {
     "cell_type": "code",
     "collapsed": false,
     "input": [
      "plot(time, mu_V, label='viscosity')\n",
      "plot(time, torque_V, label='torque')\n",
      "plot(time_data, torque_data, label='torque data')\n",
      "legend()\n",
      "xlim([0,33])"
     ],
     "language": "python",
     "metadata": {},
     "outputs": [
      {
       "metadata": {},
       "output_type": "pyout",
       "prompt_number": 17,
       "text": [
        "(0, 33)"
       ]
      },
      {
       "metadata": {},
       "output_type": "display_data",
       "png": "[encoded data removed]",
       "text": [
        "<matplotlib.figure.Figure at 0xbff5668>"
       ]
      }
     ],
     "prompt_number": 17
    },
    {
     "cell_type": "code",
     "collapsed": false,
     "input": [
      "#plot(time, T, label='Temp')\n",
      "plot(time, Tm, label='measured Temp')\n",
      "plot(time_data, temp_data, label='Temp Data')\n",
      "legend()\n",
      "xlim([0,38])"
     ],
     "language": "python",
     "metadata": {},
     "outputs": [
      {
       "metadata": {},
       "output_type": "pyout",
       "prompt_number": 37,
       "text": [
        "(0, 38)"
       ]
      },
      {
       "metadata": {},
       "output_type": "display_data",
       "png": "[encoded data removed]",
       "text": [
        "<matplotlib.figure.Figure at 0xc25dac8>"
       ]
      }
     ],
     "prompt_number": 37
    },
    {
     "cell_type": "code",
     "collapsed": false,
     "input": [
      "plot(time, HCl, '--', label='HCl')\n",
      "plot(time, LDH, label='LDH')\n",
      "#plot(time, poly_act, '-.', label='poly_act')\n",
      "plot(time, radical, ':', label='radical')\n",
      "plot(time, prim_stab, '--', label='prim_stab')\n",
      "plot(time, deg_poly, label='deg_poly')\n",
      "plot(time, x_link, label='x_link')\n",
      "legend()\n",
      "xlim([0,33])"
     ],
     "language": "python",
     "metadata": {},
     "outputs": [
      {
       "metadata": {},
       "output_type": "pyout",
       "prompt_number": 19,
       "text": [
        "(0, 33)"
       ]
      },
      {
       "metadata": {},
       "output_type": "display_data",
       "png": "[encoded data removed]",
       "text": [
        "<matplotlib.figure.Figure at 0xc25d550>"
       ]
      }
     ],
     "prompt_number": 19
    }
   ],
   "metadata": {}
  }
 ]
}