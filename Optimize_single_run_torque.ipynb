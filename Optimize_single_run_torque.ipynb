{
 "metadata": {
  "name": ""
 },
 "nbformat": 3,
 "nbformat_minor": 0,
 "worksheets": [
  {
   "cells": [
    {
     "cell_type": "markdown",
     "metadata": {},
     "source": [
      "### Optimizing function over one data set (torque)"
     ]
    },
    {
     "cell_type": "code",
     "collapsed": false,
     "input": [
      "import pandas as pd\n",
      "from scipy.optimize import curve_fit\n",
      "from curve_func import model_curves, torque_curve\n",
      "%pylab inline"
     ],
     "language": "python",
     "metadata": {},
     "outputs": [
      {
       "output_type": "stream",
       "stream": "stdout",
       "text": [
        "Populating the interactive namespace from numpy and matplotlib\n"
       ]
      }
     ],
     "prompt_number": 1
    },
    {
     "cell_type": "markdown",
     "metadata": {},
     "source": [
      "####Reading data from file"
     ]
    },
    {
     "cell_type": "code",
     "collapsed": false,
     "input": [
      "data = pd.read_table('03_PHR_Alcamizer.txt',\n",
      "                     skiprows = 4,\n",
      "                     sep = ';',\n",
      "                     usecols = range(6))"
     ],
     "language": "python",
     "metadata": {},
     "outputs": [],
     "prompt_number": 2
    },
    {
     "cell_type": "code",
     "collapsed": false,
     "input": [
      "time_data = data['t [min]'].values\n",
      "temp_data = data[data.columns[4]].values\n",
      "torque_data = data['M [Nm]'].values\n",
      "# Manually 'trimming' torque data to only the part of the curve we want to fit\n",
      "# ie removing zeros from beginning and dip from end\n",
      "cut_1 = 14\n",
      "cut_2 = 1000\n",
      "def trim(vector):\n",
      "    return vector[cut_1:cut_2]\n",
      "\n",
      "time_data = trim(time_data)\n",
      "temp_data = trim(temp_data)\n",
      "torque_data = trim(torque_data)"
     ],
     "language": "python",
     "metadata": {},
     "outputs": [],
     "prompt_number": 3
    },
    {
     "cell_type": "markdown",
     "metadata": {},
     "source": [
      "#### Fitting curve parameters using optimization routine"
     ]
    },
    {
     "cell_type": "markdown",
     "metadata": {},
     "source": [
      "Intitial guess"
     ]
    },
    {
     "cell_type": "code",
     "collapsed": false,
     "input": [
      "from logistic import rev_sigmoid, sigmoid "
     ],
     "language": "python",
     "metadata": {},
     "outputs": [],
     "prompt_number": 4
    },
    {
     "cell_type": "code",
     "collapsed": false,
     "input": [
      "UA = 340.\n",
      "k2 = 5.\n",
      "k3 = 0.35\n",
      "k4 = 0.3\n",
      "k5 = 0.001\n",
      "k6 = 1.\n",
      "k7 = 0.1\n",
      "k8 = 0.05\n",
      "k1 = 2.\n",
      "mu_0 = 0.03\n",
      "E = 6500.\n",
      "k9 = 1.\n",
      "x_k9 = rev_sigmoid(k9, 0, 5)\n",
      "k10 = 2.\n",
      "q = 2.5\n",
      "k11 = 1. #Mechanical Work Factor\n",
      "prim_stab_0 = 0.7"
     ],
     "language": "python",
     "metadata": {},
     "outputs": [],
     "prompt_number": 7
    },
    {
     "cell_type": "code",
     "collapsed": false,
     "input": [
      "p_0 = array([k1, k2, k3, k4, k5, k6,\n",
      "             k7, k8, x_k9, k10, k11,\n",
      "             UA, mu_0, E, q, prim_stab_0])"
     ],
     "language": "python",
     "metadata": {},
     "outputs": [],
     "prompt_number": 8
    },
    {
     "cell_type": "code",
     "collapsed": false,
     "input": [
      "p = curve_fit(torque_curve, time_data, torque_data, p_0)"
     ],
     "language": "python",
     "metadata": {},
     "outputs": [
      {
       "output_type": "stream",
       "stream": "stdout",
       "text": [
        "Excess accuracy requested (tolerances too small).\n",
        "Run with full_output = 1 to get quantitative information.\n",
        "Excess accuracy requested (tolerances too small).\n",
        "Run with full_output = 1 to get quantitative information.\n",
        "Excess accuracy requested (tolerances too small).\n",
        "Run with full_output = 1 to get quantitative information.\n",
        "Excess accuracy requested (tolerances too small).\n",
        "Run with full_output = 1 to get quantitative information.\n",
        "Excess work done on this call (perhaps wrong Dfun type)."
       ]
      },
      {
       "output_type": "stream",
       "stream": "stdout",
       "text": [
        "\n",
        "Run with full_output = 1 to get quantitative information.\n",
        "Excess work done on this call (perhaps wrong Dfun type)."
       ]
      },
      {
       "output_type": "stream",
       "stream": "stdout",
       "text": [
        "\n",
        "Run with full_output = 1 to get quantitative information.\n",
        "Excess work done on this call (perhaps wrong Dfun type)."
       ]
      },
      {
       "output_type": "stream",
       "stream": "stdout",
       "text": [
        "\n",
        "Run with full_output = 1 to get quantitative information.\n",
        "Excess work done on this call (perhaps wrong Dfun type)."
       ]
      },
      {
       "output_type": "stream",
       "stream": "stdout",
       "text": [
        "\n",
        "Run with full_output = 1 to get quantitative information.\n",
        "Excess accuracy requested (tolerances too small)."
       ]
      },
      {
       "output_type": "stream",
       "stream": "stdout",
       "text": [
        "\n",
        "Run with full_output = 1 to get quantitative information.\n",
        "Excess accuracy requested (tolerances too small)."
       ]
      },
      {
       "output_type": "stream",
       "stream": "stdout",
       "text": [
        "\n",
        "Run with full_output = 1 to get quantitative information.\n"
       ]
      }
     ],
     "prompt_number": 11
    },
    {
     "cell_type": "code",
     "collapsed": false,
     "input": [
      "k1, k2, k3, k4, k5, k6, k7, k8, x_k9, k10, k11, UA, mu_0, E, q, prim_stab_0 = p[0]"
     ],
     "language": "python",
     "metadata": {},
     "outputs": [],
     "prompt_number": 12
    },
    {
     "cell_type": "code",
     "collapsed": false,
     "input": [
      "k9 = sigmoid(x_k9, 0., 5.)"
     ],
     "language": "python",
     "metadata": {},
     "outputs": [],
     "prompt_number": 18
    },
    {
     "cell_type": "code",
     "collapsed": false,
     "input": [
      "print 'torque = k1*mu,          k1 =', k1.round(3)\n",
      "print 'dTmdt = k2*(T - Tm),     k2 =', k2.round(3)\n",
      "print 'HCl + LDH -> HCl.LDH,    k3 =', k3.round(3)\n",
      "print 'auto-catalytic,          k4 =', k4.round(3)\n",
      "print 'initiation reaction,     k5 =', k5.round(3)\n",
      "print 'prim_stab reaction,      k6 =', k6.round(3)\n",
      "print 'deg_poly formed,         k7 =', k7.round(3)\n",
      "print 'x-link formed,           k8 =', k8.round(3)\n",
      "print 'deg_poly effect on vis,  k9 =', k9#.round(3)\n",
      "print 'x-link effect on vis     k10 =', k10.round(3)\n",
      "print 'mechanical work on T,    k11 =', k11.round(3)\n",
      "print 'heat transfer,           UA =', UA.round(3)\n",
      "print 'vis pre-exp constant,    mu_0 =', mu_0.round(3)\n",
      "print 'activation energy,       E =', E.round(3)\n",
      "print 'x-link effect on vis,    q =', q.round(3)\n",
      "print '                         prim_stab_0 =', prim_stab_0.round(3)"
     ],
     "language": "python",
     "metadata": {},
     "outputs": [
      {
       "output_type": "stream",
       "stream": "stdout",
       "text": [
        " torque = k1*mu,          k1 = 2.8\n",
        "dTmdt = k2*(T - Tm),     k2 = 21.58\n",
        "HCl + LDH -> HCl.LDH,    k3 = 0.363\n",
        "auto-catalytic,          k4 = 0.294\n",
        "initiation reaction,     k5 = 0.001\n",
        "prim_stab reaction,      k6 = 1.08\n",
        "deg_poly formed,         k7 = 0.046\n",
        "x-link formed,           k8 = 0.057\n",
        "deg_poly effect on vis,  k9 = 1.46804171708\n",
        "x-link effect on vis     k10 = 2.355\n",
        "mechanical work on T,    k11 = 0.687\n",
        "heat transfer,           UA = 257.724\n",
        "vis pre-exp constant,    mu_0 = 0.031\n",
        "activation energy,       E = 5772.168\n",
        "x-link effect on vis,    q = 3.87\n",
        "                         prim_stab_0 = 0.511\n"
       ]
      }
     ],
     "prompt_number": 22
    },
    {
     "cell_type": "code",
     "collapsed": false,
     "input": [
      "curves = model_curves(time_data, *p[0])"
     ],
     "language": "python",
     "metadata": {},
     "outputs": [],
     "prompt_number": 23
    },
    {
     "cell_type": "code",
     "collapsed": false,
     "input": [
      "HCl, LDH, poly_act, radical, prim_stab, deg_poly, x_link, T, Tm, mu, torque = curves"
     ],
     "language": "python",
     "metadata": {},
     "outputs": [],
     "prompt_number": 24
    },
    {
     "cell_type": "code",
     "collapsed": false,
     "input": [
      "figure()\n",
      "plot(time_data, torque, label='fitted torque curve')\n",
      "plot(time_data, torque_data, label='torque data')\n",
      "legend()\n",
      "\n",
      "figure()\n",
      "plot(time_data, Tm, label='fitted temp curve')\n",
      "plot(time_data, temp_data, label='temp data')\n",
      "legend()\n",
      "xlim([0, 31])\n",
      "\n",
      "figure()\n",
      "plot(time_data, HCl, '--', label='HCl')\n",
      "plot(time_data, LDH, label='LDH')\n",
      "#plot(time_data, poly_act, '-.', label='poly_act')\n",
      "plot(time_data, radical, ':', label='radical')\n",
      "plot(time_data, prim_stab, '--', label='prim_stab')\n",
      "plot(time_data, deg_poly, label='deg_poly')\n",
      "plot(time_data, x_link, label='x_link')\n",
      "legend()\n",
      "xlim([0, 26])"
     ],
     "language": "python",
     "metadata": {},
     "outputs": [
      {
       "metadata": {},
       "output_type": "pyout",
       "prompt_number": 25,
       "text": [
        "(0, 26)"
       ]
      },
      {
       "metadata": {},
       "output_type": "display_data",
       "png": "[encoded data removed]",
       "text": [
        "<matplotlib.figure.Figure at 0x141b70b8>"
       ]
      },
      {
       "metadata": {},
       "output_type": "display_data",
       "png": "[encoded data removed]",
       "text": [
        "<matplotlib.figure.Figure at 0x141eaac8>"
       ]
      },
      {
       "metadata": {},
       "output_type": "display_data",
       "png": "[encoded data removed]",
       "text": [
        "<matplotlib.figure.Figure at 0x141a6320>"
       ]
      }
     ],
     "prompt_number": 25
    },
    {
     "cell_type": "code",
     "collapsed": false,
     "input": [],
     "language": "python",
     "metadata": {},
     "outputs": []
    }
   ],
   "metadata": {}
  }
 ]
}