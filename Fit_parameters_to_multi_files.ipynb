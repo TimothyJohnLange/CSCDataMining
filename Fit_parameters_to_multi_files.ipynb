{
 "metadata": {
  "name": ""
 },
 "nbformat": 3,
 "nbformat_minor": 0,
 "worksheets": [
  {
   "cells": [
    {
     "cell_type": "markdown",
     "metadata": {},
     "source": [
      "## Looping over data files and fitting parameters to torque curve"
     ]
    },
    {
     "cell_type": "code",
     "collapsed": false,
     "input": [
      "from datahandling import DataFile, alldatafiles, cuts, trim, file_parse\n",
      "from lmfit import minimize, report_fit\n",
      "from model_parameters import parameters, parameter_vectors\n",
      "from curve_func_2 import torque_curve, fcn2min_torque, model_curves\n",
      "from time import time as tm\n",
      "% pylab inline"
     ],
     "language": "python",
     "metadata": {},
     "outputs": [
      {
       "output_type": "stream",
       "stream": "stdout",
       "text": [
        "Populating the interactive namespace from numpy and matplotlib\n"
       ]
      }
     ],
     "prompt_number": 1
    },
    {
     "cell_type": "markdown",
     "metadata": {},
     "source": [
      "#### Loading all files"
     ]
    },
    {
     "cell_type": "code",
     "collapsed": false,
     "input": [
      "files = alldatafiles()\n",
      "no_files = len(files)"
     ],
     "language": "python",
     "metadata": {},
     "outputs": [],
     "prompt_number": 2
    },
    {
     "cell_type": "markdown",
     "metadata": {},
     "source": [
      "#### Looping over files"
     ]
    },
    {
     "cell_type": "code",
     "collapsed": false,
     "input": [
      "t = tm()\n",
      "all_ps = []\n",
      "all_LDH_type = []\n",
      "\n",
      "for i, f in enumerate(files):\n",
      "    time_data, temp_data, torque_data = DataFile(f).simple_data()\n",
      "    \n",
      "    # Trimming data\n",
      "    c = cuts(torque_data)\n",
      "    time_data = trim(time_data, c)\n",
      "    temp_data = trim(temp_data, c)\n",
      "    torque_data = trim(torque_data, c)\n",
      "    \n",
      "    # Parsing filenames\n",
      "    LDH_0, LDH_type = file_parse(f)\n",
      "    all_LDH_type = append(all_LDH_type, LDH_type)\n",
      "    \n",
      "    # Initialising and limiting parameters\n",
      "    p = parameters(LDH_0)\n",
      "    \n",
      "    # Fitting data\n",
      "    result = minimize(fcn2min_torque, p, args=(time_data, torque_data))\n",
      "    \n",
      "    #Storing parameter values\n",
      "    all_ps = append(all_ps, p)\n",
      "    print 'Completed Fit ',(i + 1)\n",
      "    print '__________________________'\n",
      "\n",
      "elapsed = tm() - t\n",
      "print '*******************'\n",
      "print 'elapsed time (min) =', elapsed/60."
     ],
     "language": "python",
     "metadata": {},
     "outputs": [
      {
       "output_type": "stream",
       "stream": "stdout",
       "text": [
        "Completed Fit  1\n",
        "__________________________\n",
        "Completed Fit "
       ]
      },
      {
       "output_type": "stream",
       "stream": "stdout",
       "text": [
        " 2\n",
        "__________________________\n",
        "Completed Fit "
       ]
      },
      {
       "output_type": "stream",
       "stream": "stdout",
       "text": [
        " 3\n",
        "__________________________\n",
        "Completed Fit "
       ]
      },
      {
       "output_type": "stream",
       "stream": "stdout",
       "text": [
        " 4\n",
        "__________________________\n",
        "Completed Fit "
       ]
      },
      {
       "output_type": "stream",
       "stream": "stdout",
       "text": [
        " 5\n",
        "__________________________\n",
        "Completed Fit "
       ]
      },
      {
       "output_type": "stream",
       "stream": "stdout",
       "text": [
        " 6\n",
        "__________________________\n",
        "Completed Fit "
       ]
      },
      {
       "output_type": "stream",
       "stream": "stdout",
       "text": [
        " 7\n",
        "__________________________\n",
        "Completed Fit "
       ]
      },
      {
       "output_type": "stream",
       "stream": "stdout",
       "text": [
        " 8\n",
        "__________________________\n",
        "Completed Fit "
       ]
      },
      {
       "output_type": "stream",
       "stream": "stdout",
       "text": [
        " 9\n",
        "__________________________\n",
        "Completed Fit "
       ]
      },
      {
       "output_type": "stream",
       "stream": "stdout",
       "text": [
        " 10\n",
        "__________________________\n",
        "Completed Fit "
       ]
      },
      {
       "output_type": "stream",
       "stream": "stdout",
       "text": [
        " 11\n",
        "__________________________\n",
        "Completed Fit "
       ]
      },
      {
       "output_type": "stream",
       "stream": "stdout",
       "text": [
        " 12\n",
        "__________________________\n",
        "Completed Fit "
       ]
      },
      {
       "output_type": "stream",
       "stream": "stdout",
       "text": [
        " 13\n",
        "__________________________\n",
        "Completed Fit "
       ]
      },
      {
       "output_type": "stream",
       "stream": "stdout",
       "text": [
        " 14\n",
        "__________________________\n",
        "Completed Fit "
       ]
      },
      {
       "output_type": "stream",
       "stream": "stdout",
       "text": [
        " 15\n",
        "__________________________\n",
        "Completed Fit "
       ]
      },
      {
       "output_type": "stream",
       "stream": "stdout",
       "text": [
        " 16\n",
        "__________________________\n",
        "Completed Fit "
       ]
      },
      {
       "output_type": "stream",
       "stream": "stdout",
       "text": [
        " 17\n",
        "__________________________\n",
        "Completed Fit "
       ]
      },
      {
       "output_type": "stream",
       "stream": "stdout",
       "text": [
        " 18\n",
        "__________________________\n",
        "Completed Fit "
       ]
      },
      {
       "output_type": "stream",
       "stream": "stdout",
       "text": [
        " 19\n",
        "__________________________\n",
        "Completed Fit "
       ]
      },
      {
       "output_type": "stream",
       "stream": "stdout",
       "text": [
        " 20\n",
        "__________________________\n",
        "Completed Fit "
       ]
      },
      {
       "output_type": "stream",
       "stream": "stdout",
       "text": [
        " 21\n",
        "__________________________\n",
        "Completed Fit "
       ]
      },
      {
       "output_type": "stream",
       "stream": "stdout",
       "text": [
        " 22\n",
        "__________________________\n",
        "Completed Fit "
       ]
      },
      {
       "output_type": "stream",
       "stream": "stdout",
       "text": [
        " 23\n",
        "__________________________\n",
        "Completed Fit "
       ]
      },
      {
       "output_type": "stream",
       "stream": "stdout",
       "text": [
        " 24\n",
        "__________________________\n",
        "Completed Fit "
       ]
      },
      {
       "output_type": "stream",
       "stream": "stdout",
       "text": [
        " 25\n",
        "__________________________\n",
        "Completed Fit "
       ]
      },
      {
       "output_type": "stream",
       "stream": "stdout",
       "text": [
        " 26\n",
        "__________________________\n",
        "Completed Fit "
       ]
      },
      {
       "output_type": "stream",
       "stream": "stdout",
       "text": [
        " 27\n",
        "__________________________\n",
        "Completed Fit "
       ]
      },
      {
       "output_type": "stream",
       "stream": "stdout",
       "text": [
        " 28\n",
        "__________________________\n",
        "Completed Fit "
       ]
      },
      {
       "output_type": "stream",
       "stream": "stdout",
       "text": [
        " 29\n",
        "__________________________\n",
        "Completed Fit "
       ]
      },
      {
       "output_type": "stream",
       "stream": "stdout",
       "text": [
        " 30\n",
        "__________________________\n",
        "Completed Fit "
       ]
      },
      {
       "output_type": "stream",
       "stream": "stdout",
       "text": [
        " 31\n",
        "__________________________\n",
        "Completed Fit "
       ]
      },
      {
       "output_type": "stream",
       "stream": "stdout",
       "text": [
        " 32\n",
        "__________________________\n",
        "Completed Fit "
       ]
      },
      {
       "output_type": "stream",
       "stream": "stdout",
       "text": [
        " 33\n",
        "__________________________\n",
        "Completed Fit "
       ]
      },
      {
       "output_type": "stream",
       "stream": "stdout",
       "text": [
        " 34\n",
        "__________________________\n",
        "Completed Fit "
       ]
      },
      {
       "output_type": "stream",
       "stream": "stdout",
       "text": [
        " 35\n",
        "__________________________\n",
        "Completed Fit "
       ]
      },
      {
       "output_type": "stream",
       "stream": "stdout",
       "text": [
        " 36\n",
        "__________________________\n",
        "Completed Fit "
       ]
      },
      {
       "output_type": "stream",
       "stream": "stdout",
       "text": [
        " 37\n",
        "__________________________\n",
        "Completed Fit "
       ]
      },
      {
       "output_type": "stream",
       "stream": "stdout",
       "text": [
        " 38\n",
        "__________________________\n",
        "Completed Fit "
       ]
      },
      {
       "output_type": "stream",
       "stream": "stdout",
       "text": [
        " 39\n",
        "__________________________\n",
        "Completed Fit "
       ]
      },
      {
       "output_type": "stream",
       "stream": "stdout",
       "text": [
        " 40\n",
        "__________________________\n",
        "Completed Fit "
       ]
      },
      {
       "output_type": "stream",
       "stream": "stdout",
       "text": [
        " 41\n",
        "__________________________\n",
        "Completed Fit "
       ]
      },
      {
       "output_type": "stream",
       "stream": "stdout",
       "text": [
        " 42\n",
        "__________________________\n",
        "Completed Fit "
       ]
      },
      {
       "output_type": "stream",
       "stream": "stdout",
       "text": [
        " 43\n",
        "__________________________\n",
        "Completed Fit "
       ]
      },
      {
       "output_type": "stream",
       "stream": "stdout",
       "text": [
        " 44\n",
        "__________________________\n",
        "Completed Fit "
       ]
      },
      {
       "output_type": "stream",
       "stream": "stdout",
       "text": [
        " 45\n",
        "__________________________\n",
        "Completed Fit "
       ]
      },
      {
       "output_type": "stream",
       "stream": "stdout",
       "text": [
        " 46\n",
        "__________________________\n",
        "Completed Fit "
       ]
      },
      {
       "output_type": "stream",
       "stream": "stdout",
       "text": [
        " 47\n",
        "__________________________\n",
        "Completed Fit "
       ]
      },
      {
       "output_type": "stream",
       "stream": "stdout",
       "text": [
        " 48\n",
        "__________________________\n",
        "Completed Fit "
       ]
      },
      {
       "output_type": "stream",
       "stream": "stdout",
       "text": [
        " 49\n",
        "__________________________\n",
        "Completed Fit "
       ]
      },
      {
       "output_type": "stream",
       "stream": "stdout",
       "text": [
        " 50\n",
        "__________________________\n",
        "Completed Fit "
       ]
      },
      {
       "output_type": "stream",
       "stream": "stdout",
       "text": [
        " 51\n",
        "__________________________\n",
        "Completed Fit "
       ]
      },
      {
       "output_type": "stream",
       "stream": "stdout",
       "text": [
        " 52\n",
        "__________________________\n",
        "Completed Fit "
       ]
      },
      {
       "output_type": "stream",
       "stream": "stdout",
       "text": [
        " 53\n",
        "__________________________\n",
        "Completed Fit "
       ]
      },
      {
       "output_type": "stream",
       "stream": "stdout",
       "text": [
        " 54\n",
        "__________________________\n",
        "Completed Fit "
       ]
      },
      {
       "output_type": "stream",
       "stream": "stdout",
       "text": [
        " 55\n",
        "__________________________\n",
        "Completed Fit "
       ]
      },
      {
       "output_type": "stream",
       "stream": "stdout",
       "text": [
        " 56\n",
        "__________________________\n",
        "Completed Fit "
       ]
      },
      {
       "output_type": "stream",
       "stream": "stdout",
       "text": [
        " 57\n",
        "__________________________\n",
        "Completed Fit "
       ]
      },
      {
       "output_type": "stream",
       "stream": "stdout",
       "text": [
        " 58\n",
        "__________________________\n",
        "Completed Fit "
       ]
      },
      {
       "output_type": "stream",
       "stream": "stdout",
       "text": [
        " 59\n",
        "__________________________\n",
        "Completed Fit "
       ]
      },
      {
       "output_type": "stream",
       "stream": "stdout",
       "text": [
        " 60\n",
        "__________________________\n",
        "Completed Fit "
       ]
      },
      {
       "output_type": "stream",
       "stream": "stdout",
       "text": [
        " 61\n",
        "__________________________\n",
        "Completed Fit "
       ]
      },
      {
       "output_type": "stream",
       "stream": "stdout",
       "text": [
        " 62\n",
        "__________________________\n",
        "Completed Fit "
       ]
      },
      {
       "output_type": "stream",
       "stream": "stdout",
       "text": [
        " 63\n",
        "__________________________\n",
        "Excess work done on this call (perhaps wrong Dfun type)."
       ]
      },
      {
       "output_type": "stream",
       "stream": "stdout",
       "text": [
        "\n",
        "Run with full_output = 1 to get quantitative information.\n",
        "Completed Fit "
       ]
      },
      {
       "output_type": "stream",
       "stream": "stdout",
       "text": [
        " 64\n",
        "__________________________\n",
        "Completed Fit "
       ]
      },
      {
       "output_type": "stream",
       "stream": "stdout",
       "text": [
        " 65\n",
        "__________________________\n",
        "Completed Fit "
       ]
      },
      {
       "output_type": "stream",
       "stream": "stdout",
       "text": [
        " 66\n",
        "__________________________\n",
        "Completed Fit "
       ]
      },
      {
       "output_type": "stream",
       "stream": "stdout",
       "text": [
        " 67\n",
        "__________________________\n",
        "Completed Fit "
       ]
      },
      {
       "output_type": "stream",
       "stream": "stdout",
       "text": [
        " 68\n",
        "__________________________\n",
        "Excess work done on this call (perhaps wrong Dfun type)."
       ]
      },
      {
       "output_type": "stream",
       "stream": "stdout",
       "text": [
        "\n",
        "Run with full_output = 1 to get quantitative information.\n",
        "Excess work done on this call (perhaps wrong Dfun type)."
       ]
      },
      {
       "output_type": "stream",
       "stream": "stdout",
       "text": [
        "\n",
        "Run with full_output = 1 to get quantitative information.\n",
        "Completed Fit "
       ]
      },
      {
       "output_type": "stream",
       "stream": "stdout",
       "text": [
        " 69\n",
        "__________________________\n",
        "Completed Fit "
       ]
      },
      {
       "output_type": "stream",
       "stream": "stdout",
       "text": [
        " 70\n",
        "__________________________\n",
        "Completed Fit "
       ]
      },
      {
       "output_type": "stream",
       "stream": "stdout",
       "text": [
        " 71\n",
        "__________________________\n",
        "Completed Fit "
       ]
      },
      {
       "output_type": "stream",
       "stream": "stdout",
       "text": [
        " 72\n",
        "__________________________\n",
        "Completed Fit "
       ]
      },
      {
       "output_type": "stream",
       "stream": "stdout",
       "text": [
        " 73\n",
        "__________________________\n",
        "Completed Fit "
       ]
      },
      {
       "output_type": "stream",
       "stream": "stdout",
       "text": [
        " 74\n",
        "__________________________\n",
        "Completed Fit "
       ]
      },
      {
       "output_type": "stream",
       "stream": "stdout",
       "text": [
        " 75\n",
        "__________________________\n",
        "Excess work done on this call (perhaps wrong Dfun type)."
       ]
      },
      {
       "output_type": "stream",
       "stream": "stdout",
       "text": [
        "\n",
        "Run with full_output = 1 to get quantitative information.\n",
        "Completed Fit "
       ]
      },
      {
       "output_type": "stream",
       "stream": "stdout",
       "text": [
        " 76\n",
        "__________________________\n",
        "Completed Fit "
       ]
      },
      {
       "output_type": "stream",
       "stream": "stdout",
       "text": [
        " 77\n",
        "__________________________\n",
        "Completed Fit "
       ]
      },
      {
       "output_type": "stream",
       "stream": "stdout",
       "text": [
        " 78\n",
        "__________________________\n",
        "Completed Fit "
       ]
      },
      {
       "output_type": "stream",
       "stream": "stdout",
       "text": [
        " 79\n",
        "__________________________\n",
        "Completed Fit "
       ]
      },
      {
       "output_type": "stream",
       "stream": "stdout",
       "text": [
        " 80\n",
        "__________________________\n",
        "Completed Fit "
       ]
      },
      {
       "output_type": "stream",
       "stream": "stdout",
       "text": [
        " 81\n",
        "__________________________\n",
        "Completed Fit "
       ]
      },
      {
       "output_type": "stream",
       "stream": "stdout",
       "text": [
        " 82\n",
        "__________________________\n",
        "Completed Fit "
       ]
      },
      {
       "output_type": "stream",
       "stream": "stdout",
       "text": [
        " 83\n",
        "__________________________\n",
        "Completed Fit "
       ]
      },
      {
       "output_type": "stream",
       "stream": "stdout",
       "text": [
        " 84\n",
        "__________________________\n",
        "Excess work done on this call (perhaps wrong Dfun type)."
       ]
      },
      {
       "output_type": "stream",
       "stream": "stdout",
       "text": [
        "\n",
        "Run with full_output = 1 to get quantitative information.\n",
        "Completed Fit "
       ]
      },
      {
       "output_type": "stream",
       "stream": "stdout",
       "text": [
        " 85\n",
        "__________________________\n",
        "Excess work done on this call (perhaps wrong Dfun type)."
       ]
      },
      {
       "output_type": "stream",
       "stream": "stdout",
       "text": [
        "\n",
        "Run with full_output = 1 to get quantitative information.\n",
        "Completed Fit "
       ]
      },
      {
       "output_type": "stream",
       "stream": "stdout",
       "text": [
        " 86\n",
        "__________________________\n",
        "Completed Fit "
       ]
      },
      {
       "output_type": "stream",
       "stream": "stdout",
       "text": [
        " 87\n",
        "__________________________\n",
        "Completed Fit "
       ]
      },
      {
       "output_type": "stream",
       "stream": "stdout",
       "text": [
        " 88\n",
        "__________________________\n",
        "Completed Fit "
       ]
      },
      {
       "output_type": "stream",
       "stream": "stdout",
       "text": [
        " 89\n",
        "__________________________\n",
        "Completed Fit "
       ]
      },
      {
       "output_type": "stream",
       "stream": "stdout",
       "text": [
        " 90\n",
        "__________________________\n",
        "Completed Fit "
       ]
      },
      {
       "output_type": "stream",
       "stream": "stdout",
       "text": [
        " 91\n",
        "__________________________\n",
        "Completed Fit "
       ]
      },
      {
       "output_type": "stream",
       "stream": "stdout",
       "text": [
        " 92\n",
        "__________________________\n",
        "Completed Fit "
       ]
      },
      {
       "output_type": "stream",
       "stream": "stdout",
       "text": [
        " 93\n",
        "__________________________\n",
        "Completed Fit "
       ]
      },
      {
       "output_type": "stream",
       "stream": "stdout",
       "text": [
        " 94\n",
        "__________________________\n",
        "Completed Fit "
       ]
      },
      {
       "output_type": "stream",
       "stream": "stdout",
       "text": [
        " 95\n",
        "__________________________\n",
        "Completed Fit "
       ]
      },
      {
       "output_type": "stream",
       "stream": "stdout",
       "text": [
        " 96\n",
        "__________________________\n",
        "Completed Fit "
       ]
      },
      {
       "output_type": "stream",
       "stream": "stdout",
       "text": [
        " 97\n",
        "__________________________\n",
        "Completed Fit "
       ]
      },
      {
       "output_type": "stream",
       "stream": "stdout",
       "text": [
        " 98\n",
        "__________________________\n",
        "Completed Fit "
       ]
      },
      {
       "output_type": "stream",
       "stream": "stdout",
       "text": [
        " 99\n",
        "__________________________\n",
        "Completed Fit "
       ]
      },
      {
       "output_type": "stream",
       "stream": "stdout",
       "text": [
        " 100\n",
        "__________________________\n",
        "Completed Fit "
       ]
      },
      {
       "output_type": "stream",
       "stream": "stdout",
       "text": [
        " 101\n",
        "__________________________\n",
        "Completed Fit "
       ]
      },
      {
       "output_type": "stream",
       "stream": "stdout",
       "text": [
        " 102\n",
        "__________________________\n",
        "Completed Fit "
       ]
      },
      {
       "output_type": "stream",
       "stream": "stdout",
       "text": [
        " 103\n",
        "__________________________\n",
        "Completed Fit "
       ]
      },
      {
       "output_type": "stream",
       "stream": "stdout",
       "text": [
        " 104\n",
        "__________________________\n",
        "Completed Fit "
       ]
      },
      {
       "output_type": "stream",
       "stream": "stdout",
       "text": [
        " 105\n",
        "__________________________\n",
        "Completed Fit "
       ]
      },
      {
       "output_type": "stream",
       "stream": "stdout",
       "text": [
        " 106\n",
        "__________________________\n",
        "Completed Fit "
       ]
      },
      {
       "output_type": "stream",
       "stream": "stdout",
       "text": [
        " 107\n",
        "__________________________\n",
        "Completed Fit "
       ]
      },
      {
       "output_type": "stream",
       "stream": "stdout",
       "text": [
        " 108\n",
        "__________________________\n",
        "Completed Fit "
       ]
      },
      {
       "output_type": "stream",
       "stream": "stdout",
       "text": [
        " 109\n",
        "__________________________\n",
        "Completed Fit "
       ]
      },
      {
       "output_type": "stream",
       "stream": "stdout",
       "text": [
        " 110\n",
        "__________________________\n",
        "Completed Fit "
       ]
      },
      {
       "output_type": "stream",
       "stream": "stdout",
       "text": [
        " 111\n",
        "__________________________\n",
        "*******************\n",
        "elapsed time (min) = 44.9384666642\n"
       ]
      }
     ],
     "prompt_number": 3
    },
    {
     "cell_type": "markdown",
     "metadata": {},
     "source": [
      "#### Analysing results"
     ]
    },
    {
     "cell_type": "code",
     "collapsed": false,
     "input": [
      "spec_result = 100\n",
      "report_fit(all_ps[spec_result], show_correl=False)"
     ],
     "language": "python",
     "metadata": {},
     "outputs": [
      {
       "output_type": "stream",
       "stream": "stdout",
       "text": [
        "[[Variables]]\n",
        "     E:               6387.223 +/- 33.82503 (0.53%) initial =  6500\n",
        "     LDH_0:           5 (fixed)\n",
        "     UA:              286.2452 +/- 7.644705 (2.67%) initial =  340\n",
        "     k1:              2.19139 +/- 0.2929442 (13.37%) initial =  2\n",
        "     k10:             6.975899 +/- 0.1228405 (1.76%) initial =  2\n",
        "     k11:             0.5369125 +/- 0.1448562 (26.98%) initial =  1\n",
        "     k2:              3.646186 +/- 0.4821766 (13.22%) initial =  5\n",
        "     k3:              0.1610204 +/- 0.006947304 (4.31%) initial =  0.35\n",
        "     k4:              0.4812342 +/- 0.04328126 (8.99%) initial =  0.3\n",
        "     k5:              0.001890305 +/- 0.0004429901 (23.43%) initial =  0.001\n",
        "     k6:              0.6543367 +/- 0.00276831 (0.42%) initial =  1\n",
        "     k7:              0.03612817 +/- 0.04857192 (134.44%) initial =  0.1\n",
        "     k8:              0.08234213 +/- 0.06402859 (77.76%) initial =  0.05\n",
        "     k9:              4.386755 +/- 0.9313255 (21.23%) initial =  2\n",
        "     mu_0:            0.02354334 +/- 0.00279358 (11.87%) initial =  0.03\n",
        "     prim_stab_0:     0.6722031 +/- 0.01921577 (2.86%) initial =  0.7\n",
        "     q:               2.429873 +/- 0.852444 (35.08%) initial =  2.5\n"
       ]
      }
     ],
     "prompt_number": 29
    },
    {
     "cell_type": "markdown",
     "metadata": {},
     "source": [
      "#### Generating and plotting all model outputs"
     ]
    },
    {
     "cell_type": "code",
     "collapsed": false,
     "input": [
      "time_data, temp_data, torque_data = DataFile(files[spec_result]).simple_data()\n",
      "\n",
      "c_1 = cuts(torque_data)\n",
      "time_data = trim(time_data, c_1)\n",
      "temp_data = trim(temp_data, c_1)\n",
      "torque_data = trim(torque_data, c_1)\n",
      "\n",
      "curves = model_curves(all_ps[spec_result], time_data)"
     ],
     "language": "python",
     "metadata": {},
     "outputs": [],
     "prompt_number": 30
    },
    {
     "cell_type": "code",
     "collapsed": false,
     "input": [
      "HCl, LDH, poly_act, radical, prim_stab, deg_poly, x_link, T, Tm, mu, torque = curves"
     ],
     "language": "python",
     "metadata": {},
     "outputs": [],
     "prompt_number": 31
    },
    {
     "cell_type": "code",
     "collapsed": false,
     "input": [
      "figure()\n",
      "plot(time_data, torque, label='fitted torque curve')\n",
      "plot(time_data, torque_data, label='torque data')\n",
      "legend()\n",
      "\n",
      "figure()\n",
      "plot(time_data, Tm, label='fitted temp curve')\n",
      "plot(time_data, temp_data, label='temp data')\n",
      "legend()\n",
      "xlim([0, 31])\n",
      "\n",
      "figure()\n",
      "plot(time_data, HCl, '--', label='HCl')\n",
      "#plot(time_data, LDH, label='LDH')\n",
      "#plot(time_data, poly_act, '-.', label='poly_act')\n",
      "plot(time_data, radical, ':', label='radical')\n",
      "plot(time_data, prim_stab, '--', label='prim_stab')\n",
      "plot(time_data, deg_poly, label='deg_poly')\n",
      "plot(time_data, x_link, label='x_link')\n",
      "legend()\n",
      "xlim([0, 26])"
     ],
     "language": "python",
     "metadata": {},
     "outputs": [
      {
       "metadata": {},
       "output_type": "pyout",
       "prompt_number": 32,
       "text": [
        "(0, 26)"
       ]
      },
      {
       "metadata": {},
       "output_type": "display_data",
       "png": "[encoded data removed]",
       "text": [
        "<matplotlib.figure.Figure at 0x1605cd68>"
       ]
      },
      {
       "metadata": {},
       "output_type": "display_data",
       "png": "[encoded data removed]",
       "text": [
        "<matplotlib.figure.Figure at 0x1630ac18>"
       ]
      },
      {
       "metadata": {},
       "output_type": "display_data",
       "png": "[encoded data removed]",
       "text": [
        "<matplotlib.figure.Figure at 0x147f4160>"
       ]
      }
     ],
     "prompt_number": 32
    },
    {
     "cell_type": "markdown",
     "metadata": {},
     "source": [
      "#### Generating parameter vectors and plotting"
     ]
    },
    {
     "cell_type": "code",
     "collapsed": false,
     "input": [
      "para_V = parameter_vectors(all_ps)"
     ],
     "language": "python",
     "metadata": {},
     "outputs": [],
     "prompt_number": 33
    },
    {
     "cell_type": "code",
     "collapsed": false,
     "input": [
      "figure_headings = ['k1, visc-torque',\n",
      "                   'k2, Tm-T',\n",
      "                   'k3, LDH rxn',\n",
      "                   'k4, auto-catalytic HCl production rxn',\n",
      "                   'k5, initiation rxn for HCl production',\n",
      "                   'k6, primary stabiliser rxn',\n",
      "                   'k7, radical to degraded polymer',\n",
      "                   'k8, radical to cross-link',\n",
      "                   'k9, degraded polymer effect on visc',\n",
      "                   'k10, cross-linking effect on visc',\n",
      "                   'k11, mechanical work affecting temp',\n",
      "                   'UA',\n",
      "                   'mu_0',\n",
      "                   'E',\n",
      "                   'q',\n",
      "                   'prim_stab_0',\n",
      "                   'LDH_0']"
     ],
     "language": "python",
     "metadata": {},
     "outputs": [],
     "prompt_number": 38
    },
    {
     "cell_type": "code",
     "collapsed": false,
     "input": [
      "for h, ps in zip(figure_headings, para_V):\n",
      "    figure().suptitle(h)\n",
      "    plot(ps, '.')"
     ],
     "language": "python",
     "metadata": {},
     "outputs": [
      {
       "metadata": {},
       "output_type": "display_data",
       "png": "[encoded data removed]",
       "text": [
        "<matplotlib.figure.Figure at 0x16582080>"
       ]
      },
      {
       "metadata": {},
       "output_type": "display_data",
       "png": "[encoded data removed]",
       "text": [
        "<matplotlib.figure.Figure at 0x15f2a8d0>"
       ]
      },
      {
       "metadata": {},
       "output_type": "display_data",
       "png": "[encoded data removed]",
       "text": [
        "<matplotlib.figure.Figure at 0x17507518>"
       ]
      },
      {
       "metadata": {},
       "output_type": "display_data",
       "png": "[encoded data removed]",
       "text": [
        "<matplotlib.figure.Figure at 0x16559940>"
       ]
      },
      {
       "metadata": {},
       "output_type": "display_data",
       "png": "[encoded data removed]",
       "text": [
        "<matplotlib.figure.Figure at 0x1658b5c0>"
       ]
      },
      {
       "metadata": {},
       "output_type": "display_data",
       "png": "[encoded data removed]",
       "text": [
        "<matplotlib.figure.Figure at 0x1658c128>"
       ]
      },
      {
       "metadata": {},
       "output_type": "display_data",
       "png": "[encoded data removed]",
       "text": [
        "<matplotlib.figure.Figure at 0x16b01ba8>"
       ]
      },
      {
       "metadata": {},
       "output_type": "display_data",
       "png": "[encoded data removed]",
       "text": [
        "<matplotlib.figure.Figure at 0x16f366a0>"
       ]
      },
      {
       "metadata": {},
       "output_type": "display_data",
       "png": "[encoded data removed]",
       "text": [
        "<matplotlib.figure.Figure at 0x16f5fac8>"
       ]
      },
      {
       "metadata": {},
       "output_type": "display_data",
       "png": "[encoded data removed]",
       "text": [
        "<matplotlib.figure.Figure at 0x167b4f28>"
       ]
      },
      {
       "metadata": {},
       "output_type": "display_data",
       "png": "[encoded data removed]",
       "text": [
        "<matplotlib.figure.Figure at 0x167a19e8>"
       ]
      },
      {
       "metadata": {},
       "output_type": "display_data",
       "png": "[encoded data removed]",
       "text": [
        "<matplotlib.figure.Figure at 0x1632c898>"
       ]
      },
      {
       "metadata": {},
       "output_type": "display_data",
       "png": "[encoded data removed]",
       "text": [
        "<matplotlib.figure.Figure at 0x162fba90>"
       ]
      },
      {
       "metadata": {},
       "output_type": "display_data",
       "png": "[encoded data removed]",
       "text": [
        "<matplotlib.figure.Figure at 0x161e9c88>"
       ]
      },
      {
       "metadata": {},
       "output_type": "display_data",
       "png": "[encoded data removed]",
       "text": [
        "<matplotlib.figure.Figure at 0x160131d0>"
       ]
      },
      {
       "metadata": {},
       "output_type": "display_data",
       "png": "[encoded data removed]",
       "text": [
        "<matplotlib.figure.Figure at 0x17ac29e8>"
       ]
      },
      {
       "metadata": {},
       "output_type": "display_data",
       "png": "[encoded data removed]",
       "text": [
        "<matplotlib.figure.Figure at 0x17ae9668>"
       ]
      }
     ],
     "prompt_number": 39
    },
    {
     "cell_type": "markdown",
     "metadata": {},
     "source": [
      "####Placing parameters into DataFrame"
     ]
    },
    {
     "cell_type": "code",
     "collapsed": false,
     "input": [
      "from pandas import DataFrame"
     ],
     "language": "python",
     "metadata": {},
     "outputs": [],
     "prompt_number": 46
    },
    {
     "cell_type": "code",
     "collapsed": false,
     "input": [
      "para_frame = DataFrame.from_records(para_V, index=figure_headings).transpose()"
     ],
     "language": "python",
     "metadata": {},
     "outputs": [],
     "prompt_number": 47
    },
    {
     "cell_type": "markdown",
     "metadata": {},
     "source": [
      "Mean values of each parameter"
     ]
    },
    {
     "cell_type": "code",
     "collapsed": false,
     "input": [
      "para_frame.mean(axis=0)"
     ],
     "language": "python",
     "metadata": {},
     "outputs": [
      {
       "metadata": {},
       "output_type": "pyout",
       "prompt_number": 48,
       "text": [
        "k1, visc-torque                             2.115296\n",
        "k2, Tm-T                                 4662.291391\n",
        "k3, LDH rxn                                 0.813358\n",
        "k4, auto-catalytic HCl production rxn       0.674566\n",
        "k5, initiation rxn for HCl production       0.007426\n",
        "k6, primary stabiliser rxn                  8.460645\n",
        "k7, radical to degraded polymer             0.488654\n",
        "k8, radical to cross-link                   0.960421\n",
        "k9, degraded polymer effect on visc         4.941602\n",
        "k10, cross-linking effect on visc           4.147847\n",
        "k11, mechanical work affecting temp         2.692171\n",
        "UA                                        238.052518\n",
        "mu_0                                        0.032540\n",
        "E                                        6274.908150\n",
        "q                                          13.400586\n",
        "prim_stab_0                                 0.534884\n",
        "LDH_0                                       1.681081\n",
        "dtype: float64"
       ]
      }
     ],
     "prompt_number": 48
    },
    {
     "cell_type": "markdown",
     "metadata": {},
     "source": [
      "Upper boundary values for each parameter = mean + 2.standard deviation"
     ]
    },
    {
     "cell_type": "code",
     "collapsed": false,
     "input": [
      "upper_bounds = para_frame.mean(axis=0) + 2*para_frame.std(axis=0)\n",
      "upper_bounds"
     ],
     "language": "python",
     "metadata": {},
     "outputs": [
      {
       "metadata": {},
       "output_type": "pyout",
       "prompt_number": 49,
       "text": [
        "k1, visc-torque                              2.867487\n",
        "k2, Tm-T                                 32329.919798\n",
        "k3, LDH rxn                                  3.970722\n",
        "k4, auto-catalytic HCl production rxn        2.143743\n",
        "k5, initiation rxn for HCl production        0.126450\n",
        "k6, primary stabiliser rxn                  34.716919\n",
        "k7, radical to degraded polymer              4.820475\n",
        "k8, radical to cross-link                    6.070564\n",
        "k9, degraded polymer effect on visc         15.703876\n",
        "k10, cross-linking effect on visc           10.640655\n",
        "k11, mechanical work affecting temp          8.477321\n",
        "UA                                         443.251508\n",
        "mu_0                                         0.156942\n",
        "E                                         7281.461828\n",
        "q                                           44.901496\n",
        "prim_stab_0                                  1.045162\n",
        "LDH_0                                        5.113495\n",
        "dtype: float64"
       ]
      }
     ],
     "prompt_number": 49
    },
    {
     "cell_type": "markdown",
     "metadata": {},
     "source": [
      "Adding columns for inital LDH and LDH type to DataFrame"
     ]
    },
    {
     "cell_type": "code",
     "collapsed": false,
     "input": [
      "para_frame['LDH type'] = all_LDH_type"
     ],
     "language": "python",
     "metadata": {},
     "outputs": [],
     "prompt_number": 50
    },
    {
     "cell_type": "markdown",
     "metadata": {},
     "source": [
      "Writing DataFrame to csv"
     ]
    },
    {
     "cell_type": "code",
     "collapsed": false,
     "input": [
      "para_frame.to_csv('all_parameters_2.csv')"
     ],
     "language": "python",
     "metadata": {},
     "outputs": [],
     "prompt_number": 51
    },
    {
     "cell_type": "code",
     "collapsed": false,
     "input": [],
     "language": "python",
     "metadata": {},
     "outputs": []
    }
   ],
   "metadata": {}
  }
 ]
}