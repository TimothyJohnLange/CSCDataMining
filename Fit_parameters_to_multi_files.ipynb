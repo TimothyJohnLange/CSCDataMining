{
 "metadata": {
  "name": ""
 },
 "nbformat": 3,
 "nbformat_minor": 0,
 "worksheets": [
  {
   "cells": [
    {
     "cell_type": "markdown",
     "metadata": {},
     "source": [
      "## Looping over data files and fitting parameters"
     ]
    },
    {
     "cell_type": "code",
     "collapsed": false,
     "input": [
      "from datahandling import DataFile, alldatafiles, cuts, trim\n",
      "from scipy.optimize.lmfit import minimize, report_fit\n",
      "from model_parameters import parameters, unpack_parameters\n",
      "from curve_func_2 import torque_curve, fcn2min_torque, model_curves\n",
      "% pylab inline"
     ],
     "language": "python",
     "metadata": {},
     "outputs": [
      {
       "output_type": "stream",
       "stream": "stdout",
       "text": [
        "Populating the interactive namespace from numpy and matplotlib\n"
       ]
      }
     ],
     "prompt_number": 1
    },
    {
     "cell_type": "markdown",
     "metadata": {},
     "source": [
      "#### Loading all files"
     ]
    },
    {
     "cell_type": "code",
     "collapsed": false,
     "input": [
      "files = alldatafiles()\n",
      "no_files = len(files)\n",
      "no_files"
     ],
     "language": "python",
     "metadata": {},
     "outputs": [
      {
       "metadata": {},
       "output_type": "pyout",
       "prompt_number": 2,
       "text": [
        "113"
       ]
      }
     ],
     "prompt_number": 2
    },
    {
     "cell_type": "markdown",
     "metadata": {},
     "source": [
      "#### Looping over files"
     ]
    },
    {
     "cell_type": "code",
     "collapsed": false,
     "input": [
      "all_ps = []\n",
      "\n",
      "for i in range(4):\n",
      "    time_data, temp_data, torque_data = DataFile(files[i]).simple_data()\n",
      "    \n",
      "    # Trimming data\n",
      "    c = cuts(torque_data)\n",
      "    time_data = trim(time_data, c)\n",
      "    temp_data = trim(temp_data, c)\n",
      "    torque_data = trim(torque_data, c)\n",
      "    \n",
      "    # Initialising and limiting parameters\n",
      "    p = parameters()\n",
      "    print p\n",
      "    # Fitting data\n",
      "    result = minimize(fcn2min_torque, p, args=(time_data, torque_data))\n",
      "    \n",
      "    #Storing parameter values\n",
      "    all_ps = append(all_ps, p)\n",
      "    print 'Completed Fit ',(i + 1)\n",
      "    print '__________________________'"
     ],
     "language": "python",
     "metadata": {},
     "outputs": [
      {
       "output_type": "stream",
       "stream": "stdout",
       "text": [
        "Parameters([('k1', <Parameter 'k1', 2.0, bounds=[0.0:None]>), ('k2', <Parameter 'k2', 5.0, bounds=[0.0:None]>), ('k3', <Parameter 'k3', 0.35, bounds=[0.0:None]>), ('k4', <Parameter 'k4', 0.3, bounds=[0.0:None]>), ('k5', <Parameter 'k5', 0.001, bounds=[0.0:None]>), ('k6', <Parameter 'k6', 1.0, bounds=[0.0:None]>), ('k7', <Parameter 'k7', 0.1, bounds=[0.0:None]>), ('k8', <Parameter 'k8', 0.05, bounds=[0.0:None]>), ('k9', <Parameter 'k9', 2.0, bounds=[0.0:None]>), ('k10', <Parameter 'k10', 2.0, bounds=[0.0:None]>), ('k11', <Parameter 'k11', 1.0, bounds=[0.0:None]>), ('UA', <Parameter 'UA', 340.0, bounds=[0.0:None]>), ('mu_0', <Parameter 'mu_0', 0.03, bounds=[0.0:None]>), ('E', <Parameter 'E', 6500.0, bounds=[0.0:None]>), ('q', <Parameter 'q', 2.5, bounds=[0.0:None]>), ('prim_stab_0', <Parameter 'prim_stab_0', 0.7, bounds=[0.0:1.0]>)])\n",
        "Excess work done on this call (perhaps wrong Dfun type)."
       ]
      },
      {
       "output_type": "stream",
       "stream": "stdout",
       "text": [
        "\n",
        "Run with full_output = 1 to get quantitative information.\n",
        "Excess work done on this call (perhaps wrong Dfun type).\n",
        "Run with full_output = 1 to get quantitative information.\n",
        "Excess work done on this call (perhaps wrong Dfun type)."
       ]
      },
      {
       "output_type": "stream",
       "stream": "stdout",
       "text": [
        "\n",
        "Run with full_output = 1 to get quantitative information.\n",
        "Completed Fit "
       ]
      },
      {
       "output_type": "stream",
       "stream": "stdout",
       "text": [
        " 1\n",
        "__________________________\n",
        "Parameters([('k1', <Parameter 'k1', 2.0, bounds=[0.0:None]>), ('k2', <Parameter 'k2', 5.0, bounds=[0.0:None]>), ('k3', <Parameter 'k3', 0.35, bounds=[0.0:None]>), ('k4', <Parameter 'k4', 0.3, bounds=[0.0:None]>), ('k5', <Parameter 'k5', 0.001, bounds=[0.0:None]>), ('k6', <Parameter 'k6', 1.0, bounds=[0.0:None]>), ('k7', <Parameter 'k7', 0.1, bounds=[0.0:None]>), ('k8', <Parameter 'k8', 0.05, bounds=[0.0:None]>), ('k9', <Parameter 'k9', 2.0, bounds=[0.0:None]>), ('k10', <Parameter 'k10', 2.0, bounds=[0.0:None]>), ('k11', <Parameter 'k11', 1.0, bounds=[0.0:None]>), ('UA', <Parameter 'UA', 340.0, bounds=[0.0:None]>), ('mu_0', <Parameter 'mu_0', 0.03, bounds=[0.0:None]>), ('E', <Parameter 'E', 6500.0, bounds=[0.0:None]>), ('q', <Parameter 'q', 2.5, bounds=[0.0:None]>), ('prim_stab_0', <Parameter 'prim_stab_0', 0.7, bounds=[0.0:1.0]>)])\n",
        "Excess work done on this call (perhaps wrong Dfun type)."
       ]
      },
      {
       "output_type": "stream",
       "stream": "stdout",
       "text": [
        "\n",
        "Run with full_output = 1 to get quantitative information.\n",
        "Excess work done on this call (perhaps wrong Dfun type)."
       ]
      },
      {
       "output_type": "stream",
       "stream": "stdout",
       "text": [
        "\n",
        "Run with full_output = 1 to get quantitative information.\n",
        "Excess work done on this call (perhaps wrong Dfun type).\n",
        "Run with full_output = 1 to get quantitative information.\n",
        "Completed Fit "
       ]
      },
      {
       "output_type": "stream",
       "stream": "stdout",
       "text": [
        " 2\n",
        "__________________________\n",
        "Parameters([('k1', <Parameter 'k1', 2.0, bounds=[0.0:None]>), ('k2', <Parameter 'k2', 5.0, bounds=[0.0:None]>), ('k3', <Parameter 'k3', 0.35, bounds=[0.0:None]>), ('k4', <Parameter 'k4', 0.3, bounds=[0.0:None]>), ('k5', <Parameter 'k5', 0.001, bounds=[0.0:None]>), ('k6', <Parameter 'k6', 1.0, bounds=[0.0:None]>), ('k7', <Parameter 'k7', 0.1, bounds=[0.0:None]>), ('k8', <Parameter 'k8', 0.05, bounds=[0.0:None]>), ('k9', <Parameter 'k9', 2.0, bounds=[0.0:None]>), ('k10', <Parameter 'k10', 2.0, bounds=[0.0:None]>), ('k11', <Parameter 'k11', 1.0, bounds=[0.0:None]>), ('UA', <Parameter 'UA', 340.0, bounds=[0.0:None]>), ('mu_0', <Parameter 'mu_0', 0.03, bounds=[0.0:None]>), ('E', <Parameter 'E', 6500.0, bounds=[0.0:None]>), ('q', <Parameter 'q', 2.5, bounds=[0.0:None]>), ('prim_stab_0', <Parameter 'prim_stab_0', 0.7, bounds=[0.0:1.0]>)])\n",
        "Excess work done on this call (perhaps wrong Dfun type)."
       ]
      },
      {
       "output_type": "stream",
       "stream": "stdout",
       "text": [
        "\n",
        "Run with full_output = 1 to get quantitative information.\n",
        "Excess work done on this call (perhaps wrong Dfun type).\n",
        "Run with full_output = 1 to get quantitative information.\n",
        "Excess work done on this call (perhaps wrong Dfun type)."
       ]
      },
      {
       "output_type": "stream",
       "stream": "stdout",
       "text": [
        "\n",
        "Run with full_output = 1 to get quantitative information.\n",
        "Completed Fit "
       ]
      },
      {
       "output_type": "stream",
       "stream": "stdout",
       "text": [
        " 3\n",
        "__________________________\n",
        "Parameters([('k1', <Parameter 'k1', 2.0, bounds=[0.0:None]>), ('k2', <Parameter 'k2', 5.0, bounds=[0.0:None]>), ('k3', <Parameter 'k3', 0.35, bounds=[0.0:None]>), ('k4', <Parameter 'k4', 0.3, bounds=[0.0:None]>), ('k5', <Parameter 'k5', 0.001, bounds=[0.0:None]>), ('k6', <Parameter 'k6', 1.0, bounds=[0.0:None]>), ('k7', <Parameter 'k7', 0.1, bounds=[0.0:None]>), ('k8', <Parameter 'k8', 0.05, bounds=[0.0:None]>), ('k9', <Parameter 'k9', 2.0, bounds=[0.0:None]>), ('k10', <Parameter 'k10', 2.0, bounds=[0.0:None]>), ('k11', <Parameter 'k11', 1.0, bounds=[0.0:None]>), ('UA', <Parameter 'UA', 340.0, bounds=[0.0:None]>), ('mu_0', <Parameter 'mu_0', 0.03, bounds=[0.0:None]>), ('E', <Parameter 'E', 6500.0, bounds=[0.0:None]>), ('q', <Parameter 'q', 2.5, bounds=[0.0:None]>), ('prim_stab_0', <Parameter 'prim_stab_0', 0.7, bounds=[0.0:1.0]>)])"
       ]
      },
      {
       "output_type": "stream",
       "stream": "stdout",
       "text": [
        "\n",
        "Excess work done on this call (perhaps wrong Dfun type)."
       ]
      },
      {
       "output_type": "stream",
       "stream": "stdout",
       "text": [
        "\n",
        "Run with full_output = 1 to get quantitative information.\n",
        "Excess work done on this call (perhaps wrong Dfun type)."
       ]
      },
      {
       "output_type": "stream",
       "stream": "stdout",
       "text": [
        "\n",
        "Run with full_output = 1 to get quantitative information.\n",
        "Completed Fit "
       ]
      },
      {
       "output_type": "stream",
       "stream": "stdout",
       "text": [
        " 4\n",
        "__________________________\n"
       ]
      }
     ],
     "prompt_number": 3
    },
    {
     "cell_type": "markdown",
     "metadata": {},
     "source": [
      "#### Analysing results"
     ]
    },
    {
     "cell_type": "code",
     "collapsed": false,
     "input": [
      "spec_result = 3\n",
      "report_fit(all_ps[spec_result], show_correl=False)"
     ],
     "language": "python",
     "metadata": {},
     "outputs": [
      {
       "output_type": "stream",
       "stream": "stdout",
       "text": [
        "[[Variables]]\n",
        "     E:               6009.429 +/- 17.81349 (0.30%) initial =  6500\n",
        "     UA:              234.0105 +/- 7.754645 (3.31%) initial =  340\n",
        "     k1:              1.948296 +/- 0.8325148 (42.73%) initial =  2\n",
        "     k10:             2.205778 +/- 5.517001 (250.12%) initial =  2\n",
        "     k11:             2.24112 +/- 0.9296845 (41.48%) initial =  1\n",
        "     k2:              155392.9 +/- 168118.4 (108.19%) initial =  5\n",
        "     k3:              0.3593472 +/- 0.3085752 (85.87%) initial =  0.35\n",
        "     k4:              0.2955218 +/- 0.233886 (79.14%) initial =  0.3\n",
        "     k5:              0.0008449868 +/- 0.003197649 (378.43%) initial =  0.001\n",
        "     k6:              2.467091 +/- 1.406294 (57.00%) initial =  1\n",
        "     k7:              0.01532803 +/- 0.006377632 (41.61%) initial =  0.1\n",
        "     k8:              0.0589254 +/- 0.2263176 (384.07%) initial =  0.05\n",
        "     k9:              0.4596007 +/- 0.3162093 (68.80%) initial =  2\n",
        "     mu_0:            0.03992408 +/- 0.01723401 (43.17%) initial =  0.03\n",
        "     prim_stab_0:     0.9043019 +/- 0.629244 (69.58%) initial =  0.7\n",
        "     q:               4.661833 +/- 0.8029302 (17.22%) initial =  2.5\n"
       ]
      }
     ],
     "prompt_number": 4
    },
    {
     "cell_type": "markdown",
     "metadata": {},
     "source": [
      "#### Generating and plotting all model outputs"
     ]
    },
    {
     "cell_type": "code",
     "collapsed": false,
     "input": [
      "time_data, temp_data, torque_data = DataFile(files[spec_result]).simple_data()\n",
      "\n",
      "c_1 = cuts(torque_data)\n",
      "time_data = trim(time_data, c_1)\n",
      "temp_data = trim(temp_data, c_1)\n",
      "torque_data = trim(torque_data, c_1)\n",
      "\n",
      "curves = model_curves(all_ps[spec_result], time_data)"
     ],
     "language": "python",
     "metadata": {},
     "outputs": [],
     "prompt_number": 5
    },
    {
     "cell_type": "code",
     "collapsed": false,
     "input": [
      "HCl, LDH, poly_act, radical, prim_stab, deg_poly, x_link, T, Tm, mu, torque = curves"
     ],
     "language": "python",
     "metadata": {},
     "outputs": [],
     "prompt_number": 6
    },
    {
     "cell_type": "code",
     "collapsed": false,
     "input": [
      "figure()\n",
      "plot(time_data, torque, label='fitted torque curve')\n",
      "plot(time_data, torque_data, label='torque data')\n",
      "legend()\n",
      "\n",
      "figure()\n",
      "plot(time_data, Tm, label='fitted temp curve')\n",
      "plot(time_data, temp_data, label='temp data')\n",
      "legend()\n",
      "xlim([0, 31])\n",
      "\n",
      "figure()\n",
      "plot(time_data, HCl, '--', label='HCl')\n",
      "plot(time_data, LDH, label='LDH')\n",
      "#plot(time_data, poly_act, '-.', label='poly_act')\n",
      "plot(time_data, radical, ':', label='radical')\n",
      "plot(time_data, prim_stab, '--', label='prim_stab')\n",
      "plot(time_data, deg_poly, label='deg_poly')\n",
      "plot(time_data, x_link, label='x_link')\n",
      "legend()\n",
      "xlim([0, 26])"
     ],
     "language": "python",
     "metadata": {},
     "outputs": [
      {
       "metadata": {},
       "output_type": "pyout",
       "prompt_number": 7,
       "text": [
        "(0, 26)"
       ]
      },
      {
       "metadata": {},
       "output_type": "display_data",
       "png": "[encoded data removed]",
       "text": [
        "<matplotlib.figure.Figure at 0x147edfd0>"
       ]
      },
      {
       "metadata": {},
       "output_type": "display_data",
       "png": "[encoded data removed]",
       "text": [
        "<matplotlib.figure.Figure at 0x1495b6a0>"
       ]
      },
      {
       "metadata": {},
       "output_type": "display_data",
       "png": "[encoded data removed]",
       "text": [
        "<matplotlib.figure.Figure at 0x149832b0>"
       ]
      }
     ],
     "prompt_number": 7
    },
    {
     "cell_type": "code",
     "collapsed": false,
     "input": [],
     "language": "python",
     "metadata": {},
     "outputs": []
    }
   ],
   "metadata": {}
  }
 ]
}