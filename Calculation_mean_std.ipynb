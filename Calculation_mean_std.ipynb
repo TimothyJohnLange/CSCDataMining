{
 "metadata": {
  "name": ""
 },
 "nbformat": 3,
 "nbformat_minor": 0,
 "worksheets": [
  {
   "cells": [
    {
     "cell_type": "code",
     "collapsed": false,
     "input": [
      "from datahandling import DataFile, alldatafiles, cuts, trim\n",
      "%pylab inline"
     ],
     "language": "python",
     "metadata": {},
     "outputs": [
      {
       "output_type": "stream",
       "stream": "stdout",
       "text": [
        "Populating the interactive namespace from numpy and matplotlib\n"
       ]
      }
     ],
     "prompt_number": 5
    },
    {
     "cell_type": "code",
     "collapsed": false,
     "input": [
      "files = alldatafiles()"
     ],
     "language": "python",
     "metadata": {},
     "outputs": [],
     "prompt_number": 6
    },
    {
     "cell_type": "code",
     "collapsed": false,
     "input": [
      "t_means = []\n",
      "T_means = []\n",
      "t_stds = []\n",
      "T_stds = []\n",
      "\n",
      "for f in files:\n",
      "    time_data, temp_data, torque_data = DataFile(f).simple_data()\n",
      "    \n",
      "    c = cuts(torque_data)\n",
      "    time_data = trim(time_data, c)\n",
      "    temp_data = trim(temp_data, c)\n",
      "    torque_data = trim(torque_data, c)\n",
      "    \n",
      "    t_means.append(mean(torque_data))\n",
      "    T_means.append(mean(temp_data))\n",
      "    t_stds.append(std(torque_data))\n",
      "    T_stds.append(std(temp_data))"
     ],
     "language": "python",
     "metadata": {},
     "outputs": [],
     "prompt_number": 8
    },
    {
     "cell_type": "code",
     "collapsed": false,
     "input": [
      "print 'mean torque:', mean(t_means)\n",
      "print 'mean temperature:', mean(T_means)\n",
      "print 'standard deviation torque:', mean(t_stds)\n",
      "print 'standard deviation temperature:', mean(T_stds)"
     ],
     "language": "python",
     "metadata": {},
     "outputs": [
      {
       "output_type": "stream",
       "stream": "stdout",
       "text": [
        "mean torque: 4.30047187379\n",
        "mean temperature: 204.568116689\n",
        "standard deviation torque: 2.82379901657\n",
        "standard deviation temperature: 9.34711250308\n"
       ]
      }
     ],
     "prompt_number": 10
    },
    {
     "cell_type": "code",
     "collapsed": false,
     "input": [],
     "language": "python",
     "metadata": {},
     "outputs": []
    }
   ],
   "metadata": {}
  }
 ]
}